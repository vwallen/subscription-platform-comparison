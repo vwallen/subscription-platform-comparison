{
 "cells": [
  {
   "cell_type": "code",
   "execution_count": 1,
   "id": "b7980c2b-4d91-40d0-affb-11f8a39158e5",
   "metadata": {
    "tags": []
   },
   "outputs": [],
   "source": [
    "import pandas as pd\n",
    "import altair as alt"
   ]
  },
  {
   "cell_type": "code",
   "execution_count": 2,
   "id": "2fb8bad0-44c6-49d2-b494-b0f664f47cf9",
   "metadata": {
    "tags": []
   },
   "outputs": [],
   "source": [
    "def patreon_fee(amt):\n",
    "    if amt > 3.00:\n",
    "        return 0.30 + 0.029 * amt\n",
    "    else:\n",
    "        return 0.10 + 0.050 * amt\n",
    "    \n",
    "def patreon_paid(amt):\n",
    "    return round(amt - patreon_fee(amt), 2)\n",
    "\n",
    "def patreon_mrr(plan, subscribers, paid):\n",
    "    match plan:\n",
    "        case \"lite\":\n",
    "            platform_fee = (subscribers * paid) * 0.05\n",
    "        case \"pro\":\n",
    "            platform_fee = (subscribers * paid) * 0.08\n",
    "        case \"premium\":\n",
    "            platform_fee = (subscribers * paid) * 0.12\n",
    "    income = sum(map(lambda x: patreon_paid(paid), range(subscribers)))\n",
    "    return round(income - platform_fee, 2)"
   ]
  },
  {
   "cell_type": "code",
   "execution_count": 3,
   "id": "b166b659-fa6a-4968-82de-0ee01e12d0f0",
   "metadata": {
    "tags": []
   },
   "outputs": [
    {
     "data": {
      "text/plain": [
       "(2.75, 260.0, 251.0, 239.0)"
      ]
     },
     "execution_count": 3,
     "metadata": {},
     "output_type": "execute_result"
    }
   ],
   "source": [
    "patreon_paid(3.00), patreon_mrr(\"lite\", 100, 3.00), patreon_mrr(\"pro\", 100, 3.00), patreon_mrr(\"premium\", 100, 3.00)"
   ]
  },
  {
   "cell_type": "code",
   "execution_count": 4,
   "id": "16af0b28-4715-4e02-a1f6-30778abc8ae8",
   "metadata": {
    "tags": []
   },
   "outputs": [
    {
     "data": {
      "text/plain": [
       "(4.55, 430.0, 415.0, 395.0)"
      ]
     },
     "execution_count": 4,
     "metadata": {},
     "output_type": "execute_result"
    }
   ],
   "source": [
    "patreon_paid(5.00), patreon_mrr(\"lite\", 100, 5.00), patreon_mrr(\"pro\", 100, 5.00), patreon_mrr(\"premium\", 100, 5.00)"
   ]
  },
  {
   "cell_type": "code",
   "execution_count": 5,
   "id": "60d4ad77-d36d-4806-abda-6f63954b2333",
   "metadata": {
    "tags": []
   },
   "outputs": [],
   "source": [
    "def memberful_fee(plan, amt):\n",
    "    match plan:\n",
    "        case \"starter\":\n",
    "            return 0.30 + 0.029 * amt + 0.100 * amt\n",
    "        case \"pro\" | \"premium\":\n",
    "            return 0.30 + 0.029 * amt + 0.049 * amt\n",
    "        \n",
    "def memberful_paid(plan, amt):\n",
    "    return round(amt - memberful_fee(plan, amt), 2)\n",
    "\n",
    "def memberful_mrr(plan, subscribers, paid):\n",
    "    match plan:\n",
    "        case \"starter\":\n",
    "            platform_fee = 0.00\n",
    "        case \"pro\":\n",
    "            platform_fee = 25.00\n",
    "        case \"premium\":\n",
    "            platform_fee = 100.00\n",
    "    income = sum(map(lambda x: memberful_paid(plan, paid), range(subscribers)))\n",
    "    return round(income - platform_fee, 2)"
   ]
  },
  {
   "cell_type": "code",
   "execution_count": 6,
   "id": "74a6db47-4378-48e0-ba01-32d6778b156f",
   "metadata": {
    "tags": []
   },
   "outputs": [
    {
     "data": {
      "text/plain": [
       "(2.31, 405.0, 406.0, 331.0)"
      ]
     },
     "execution_count": 6,
     "metadata": {},
     "output_type": "execute_result"
    }
   ],
   "source": [
    "memberful_paid(\"starter\", 3.00), memberful_mrr(\"starter\", 100, 5.00), memberful_mrr(\"pro\", 100, 5.00), memberful_mrr(\"premium\", 100, 5.00)"
   ]
  },
  {
   "cell_type": "code",
   "execution_count": 7,
   "id": "d3726391-5f63-4bef-8e66-f7b1dc362641",
   "metadata": {
    "tags": []
   },
   "outputs": [],
   "source": [
    "def kofi_fee(plan, amt):\n",
    "    match plan:\n",
    "        case \"contributor\":\n",
    "            return 0.30 + 0.029 * amt + 0.05 * amt\n",
    "        case \"gold\":\n",
    "            return 0.30 + 0.029 * amt\n",
    "        \n",
    "def kofi_paid(plan, amt):\n",
    "    return round(amt - kofi_fee(plan, amt), 2)\n",
    "\n",
    "def kofi_mrr(plan, subscribers, paid):\n",
    "    match plan:\n",
    "        case \"contributor\":\n",
    "            platform_fee = 0.00\n",
    "        case \"gold\":\n",
    "            platform_fee = 6.00\n",
    "    income = sum(map(lambda x: kofi_paid(plan, paid), range(subscribers)))\n",
    "    return round(income - platform_fee, 2)"
   ]
  },
  {
   "cell_type": "code",
   "execution_count": 8,
   "id": "f882356c-e685-4304-bbe2-20c563e61b52",
   "metadata": {
    "tags": []
   },
   "outputs": [],
   "source": [
    "def stripe_fee(plan, amt):\n",
    "    match plan:\n",
    "        case \"starter\":\n",
    "            return 0.05 * amt\n",
    "        case \"scale\":\n",
    "            return 0.08 * amt\n",
    "        \n",
    "def stripe_paid(plan, amt):\n",
    "    return round(amt - stripe_fee(plan, amt), 2)\n",
    "\n",
    "def stripe_mrr(plan, subscribers, paid):\n",
    "    platform_fee = 0.00\n",
    "    income = sum(map(lambda x: stripe_paid(plan, paid), range(subscribers)))\n",
    "    return round(income - platform_fee, 2)"
   ]
  },
  {
   "cell_type": "code",
   "execution_count": 9,
   "id": "af2809a5-6c01-46a2-a43d-358e1dc1b26e",
   "metadata": {
    "tags": []
   },
   "outputs": [
    {
     "data": {
      "text/plain": [
       "(2.85, 475.0, 460.0)"
      ]
     },
     "execution_count": 9,
     "metadata": {},
     "output_type": "execute_result"
    }
   ],
   "source": [
    "stripe_paid(\"starter\", 3.00), stripe_mrr(\"starter\", 100, 5.00), stripe_mrr(\"scale\", 100, 5.00)"
   ]
  },
  {
   "cell_type": "code",
   "execution_count": 10,
   "id": "7f2421d7-482f-44f4-b8e1-13ef26995e0d",
   "metadata": {
    "tags": []
   },
   "outputs": [],
   "source": [
    "patreon = []\n",
    "for n in range(0,1025,25):\n",
    "    patreon.append({\n",
    "        'platform':'patreon-lite', \n",
    "        'plan':'lite',\n",
    "        'subscribers': n,\n",
    "        'mrr': patreon_mrr('lite', n, 5.00)\n",
    "    })\n",
    "    patreon.append({\n",
    "        'platform':'patreon-pro', \n",
    "        'plan':'pro',\n",
    "        'subscribers': n,\n",
    "        'mrr': patreon_mrr('pro', n, 5.00)\n",
    "    })\n",
    "    patreon.append({\n",
    "        'platform':'patreon-premium', \n",
    "        'plan':'premium',\n",
    "        'subscribers': n,\n",
    "        'mrr': patreon_mrr('premium', n, 5.00)\n",
    "    })"
   ]
  },
  {
   "cell_type": "code",
   "execution_count": 11,
   "id": "67f965b5-8bb2-4f79-9974-e74869ccd189",
   "metadata": {
    "tags": []
   },
   "outputs": [],
   "source": [
    "memberful = []\n",
    "for n in range(0,1025,25):\n",
    "    memberful.append({\n",
    "        'platform':'memberful-starter', \n",
    "        'plan':'starter',\n",
    "        'subscribers': n,\n",
    "        'mrr': memberful_mrr('starter', n, 5.00)\n",
    "    })\n",
    "    memberful.append({\n",
    "        'platform':'memberful-pro', \n",
    "        'plan':'pro',\n",
    "        'subscribers': n,\n",
    "        'mrr': memberful_mrr('pro', n, 5.00)\n",
    "    })\n",
    "    memberful.append({\n",
    "        'platform':'memberful-premium', \n",
    "        'plan':'premium',\n",
    "        'subscribers': n,\n",
    "        'mrr': memberful_mrr('premium', n, 5.00)\n",
    "    })"
   ]
  },
  {
   "cell_type": "code",
   "execution_count": 12,
   "id": "24727df5-29f3-4d27-8bef-05f6e9a563a3",
   "metadata": {
    "tags": []
   },
   "outputs": [],
   "source": [
    "kofi = []\n",
    "for n in range(0,1025,25):\n",
    "    kofi.append({\n",
    "        'platform':'kofi-contributor', \n",
    "        'plan':'contributor',\n",
    "        'subscribers': n,\n",
    "        'mrr': kofi_mrr('contributor', n, 5.00)\n",
    "    })\n",
    "    kofi.append({\n",
    "        'platform':'kofi-gold', \n",
    "        'plan':'gold',\n",
    "        'subscribers': n,\n",
    "        'mrr': kofi_mrr('gold', n, 5.00)\n",
    "    })"
   ]
  },
  {
   "cell_type": "code",
   "execution_count": 13,
   "id": "0400f532-dd17-4e61-b5c4-a0b942093328",
   "metadata": {
    "tags": []
   },
   "outputs": [],
   "source": [
    "stripe = []\n",
    "for n in range(0,1025,25):\n",
    "    stripe.append({\n",
    "        'platform':'stripe-starter', \n",
    "        'plan':'starter',\n",
    "        'subscribers': n,\n",
    "        'mrr': stripe_mrr('starter', n, 5.00)\n",
    "    })\n",
    "    stripe.append({\n",
    "        'platform':'stripe-scale', \n",
    "        'plan':'scale',\n",
    "        'subscribers': n,\n",
    "        'mrr': stripe_mrr('scale', n, 5.00)\n",
    "    })"
   ]
  },
  {
   "cell_type": "code",
   "execution_count": 24,
   "id": "422f08eb-a1d6-4f5f-807b-47f52de95c23",
   "metadata": {
    "tags": []
   },
   "outputs": [],
   "source": [
    "all_platforms = pd.DataFrame(patreon + kofi + memberful + stripe)"
   ]
  },
  {
   "cell_type": "code",
   "execution_count": 23,
   "id": "f64195ca-eb53-47d2-96c8-6654a32ba236",
   "metadata": {
    "tags": []
   },
   "outputs": [
    {
     "data": {
      "text/html": [
       "\n",
       "<div id=\"altair-viz-400dd175187b42d590c04bbfc9ffaebc\"></div>\n",
       "<script type=\"text/javascript\">\n",
       "  var VEGA_DEBUG = (typeof VEGA_DEBUG == \"undefined\") ? {} : VEGA_DEBUG;\n",
       "  (function(spec, embedOpt){\n",
       "    let outputDiv = document.currentScript.previousElementSibling;\n",
       "    if (outputDiv.id !== \"altair-viz-400dd175187b42d590c04bbfc9ffaebc\") {\n",
       "      outputDiv = document.getElementById(\"altair-viz-400dd175187b42d590c04bbfc9ffaebc\");\n",
       "    }\n",
       "    const paths = {\n",
       "      \"vega\": \"https://cdn.jsdelivr.net/npm/vega@5?noext\",\n",
       "      \"vega-lib\": \"https://cdn.jsdelivr.net/npm/vega-lib?noext\",\n",
       "      \"vega-lite\": \"https://cdn.jsdelivr.net/npm/vega-lite@5.6.1?noext\",\n",
       "      \"vega-embed\": \"https://cdn.jsdelivr.net/npm/vega-embed@6?noext\",\n",
       "    };\n",
       "\n",
       "    function maybeLoadScript(lib, version) {\n",
       "      var key = `${lib.replace(\"-\", \"\")}_version`;\n",
       "      return (VEGA_DEBUG[key] == version) ?\n",
       "        Promise.resolve(paths[lib]) :\n",
       "        new Promise(function(resolve, reject) {\n",
       "          var s = document.createElement('script');\n",
       "          document.getElementsByTagName(\"head\")[0].appendChild(s);\n",
       "          s.async = true;\n",
       "          s.onload = () => {\n",
       "            VEGA_DEBUG[key] = version;\n",
       "            return resolve(paths[lib]);\n",
       "          };\n",
       "          s.onerror = () => reject(`Error loading script: ${paths[lib]}`);\n",
       "          s.src = paths[lib];\n",
       "        });\n",
       "    }\n",
       "\n",
       "    function showError(err) {\n",
       "      outputDiv.innerHTML = `<div class=\"error\" style=\"color:red;\">${err}</div>`;\n",
       "      throw err;\n",
       "    }\n",
       "\n",
       "    function displayChart(vegaEmbed) {\n",
       "      vegaEmbed(outputDiv, spec, embedOpt)\n",
       "        .catch(err => showError(`Javascript Error: ${err.message}<br>This usually means there's a typo in your chart specification. See the javascript console for the full traceback.`));\n",
       "    }\n",
       "\n",
       "    if(typeof define === \"function\" && define.amd) {\n",
       "      requirejs.config({paths});\n",
       "      require([\"vega-embed\"], displayChart, err => showError(`Error loading script: ${err.message}`));\n",
       "    } else {\n",
       "      maybeLoadScript(\"vega\", \"5\")\n",
       "        .then(() => maybeLoadScript(\"vega-lite\", \"5.6.1\"))\n",
       "        .then(() => maybeLoadScript(\"vega-embed\", \"6\"))\n",
       "        .catch(showError)\n",
       "        .then(() => displayChart(vegaEmbed));\n",
       "    }\n",
       "  })({\"config\": {\"view\": {\"continuousWidth\": 300, \"continuousHeight\": 300}}, \"layer\": [{\"mark\": {\"type\": \"line\"}, \"encoding\": {\"color\": {\"field\": \"platform\", \"type\": \"nominal\"}, \"tooltip\": [{\"field\": \"platform\", \"type\": \"nominal\"}, {\"field\": \"mrr\", \"type\": \"quantitative\"}], \"x\": {\"field\": \"subscribers\", \"type\": \"quantitative\"}, \"y\": {\"field\": \"mrr\", \"type\": \"quantitative\"}}}, {\"mark\": {\"type\": \"circle\"}, \"encoding\": {\"color\": {\"field\": \"platform\", \"type\": \"nominal\"}, \"tooltip\": [{\"field\": \"platform\", \"type\": \"nominal\"}, {\"field\": \"mrr\", \"type\": \"quantitative\"}], \"x\": {\"field\": \"subscribers\", \"type\": \"quantitative\"}, \"y\": {\"field\": \"mrr\", \"type\": \"quantitative\"}}}], \"data\": {\"name\": \"data-6f4ef86855507e9c4f8b7e7de7469d70\"}, \"height\": 768, \"width\": 1024, \"$schema\": \"https://vega.github.io/schema/vega-lite/v5.6.1.json\", \"datasets\": {\"data-6f4ef86855507e9c4f8b7e7de7469d70\": [{\"platform\": \"patreon-lite\", \"plan\": \"lite\", \"subscribers\": 0, \"mrr\": 0.0}, {\"platform\": \"patreon-pro\", \"plan\": \"pro\", \"subscribers\": 0, \"mrr\": 0.0}, {\"platform\": \"patreon-premium\", \"plan\": \"premium\", \"subscribers\": 0, \"mrr\": 0.0}, {\"platform\": \"patreon-lite\", \"plan\": \"lite\", \"subscribers\": 25, \"mrr\": 107.5}, {\"platform\": \"patreon-pro\", \"plan\": \"pro\", \"subscribers\": 25, \"mrr\": 103.75}, {\"platform\": \"patreon-premium\", \"plan\": \"premium\", \"subscribers\": 25, \"mrr\": 98.75}, {\"platform\": \"patreon-lite\", \"plan\": \"lite\", \"subscribers\": 50, \"mrr\": 215.0}, {\"platform\": \"patreon-pro\", \"plan\": \"pro\", \"subscribers\": 50, \"mrr\": 207.5}, {\"platform\": \"patreon-premium\", \"plan\": \"premium\", \"subscribers\": 50, \"mrr\": 197.5}, {\"platform\": \"patreon-lite\", \"plan\": \"lite\", \"subscribers\": 75, \"mrr\": 322.5}, {\"platform\": \"patreon-pro\", \"plan\": \"pro\", \"subscribers\": 75, \"mrr\": 311.25}, {\"platform\": \"patreon-premium\", \"plan\": \"premium\", \"subscribers\": 75, \"mrr\": 296.25}, {\"platform\": \"patreon-lite\", \"plan\": \"lite\", \"subscribers\": 100, \"mrr\": 430.0}, {\"platform\": \"patreon-pro\", \"plan\": \"pro\", \"subscribers\": 100, \"mrr\": 415.0}, {\"platform\": \"patreon-premium\", \"plan\": \"premium\", \"subscribers\": 100, \"mrr\": 395.0}, {\"platform\": \"patreon-lite\", \"plan\": \"lite\", \"subscribers\": 125, \"mrr\": 537.5}, {\"platform\": \"patreon-pro\", \"plan\": \"pro\", \"subscribers\": 125, \"mrr\": 518.75}, {\"platform\": \"patreon-premium\", \"plan\": \"premium\", \"subscribers\": 125, \"mrr\": 493.75}, {\"platform\": \"patreon-lite\", \"plan\": \"lite\", \"subscribers\": 150, \"mrr\": 645.0}, {\"platform\": \"patreon-pro\", \"plan\": \"pro\", \"subscribers\": 150, \"mrr\": 622.5}, {\"platform\": \"patreon-premium\", \"plan\": \"premium\", \"subscribers\": 150, \"mrr\": 592.5}, {\"platform\": \"patreon-lite\", \"plan\": \"lite\", \"subscribers\": 175, \"mrr\": 752.5}, {\"platform\": \"patreon-pro\", \"plan\": \"pro\", \"subscribers\": 175, \"mrr\": 726.25}, {\"platform\": \"patreon-premium\", \"plan\": \"premium\", \"subscribers\": 175, \"mrr\": 691.25}, {\"platform\": \"patreon-lite\", \"plan\": \"lite\", \"subscribers\": 200, \"mrr\": 860.0}, {\"platform\": \"patreon-pro\", \"plan\": \"pro\", \"subscribers\": 200, \"mrr\": 830.0}, {\"platform\": \"patreon-premium\", \"plan\": \"premium\", \"subscribers\": 200, \"mrr\": 790.0}, {\"platform\": \"patreon-lite\", \"plan\": \"lite\", \"subscribers\": 225, \"mrr\": 967.5}, {\"platform\": \"patreon-pro\", \"plan\": \"pro\", \"subscribers\": 225, \"mrr\": 933.75}, {\"platform\": \"patreon-premium\", \"plan\": \"premium\", \"subscribers\": 225, \"mrr\": 888.75}, {\"platform\": \"patreon-lite\", \"plan\": \"lite\", \"subscribers\": 250, \"mrr\": 1075.0}, {\"platform\": \"patreon-pro\", \"plan\": \"pro\", \"subscribers\": 250, \"mrr\": 1037.5}, {\"platform\": \"patreon-premium\", \"plan\": \"premium\", \"subscribers\": 250, \"mrr\": 987.5}, {\"platform\": \"patreon-lite\", \"plan\": \"lite\", \"subscribers\": 275, \"mrr\": 1182.5}, {\"platform\": \"patreon-pro\", \"plan\": \"pro\", \"subscribers\": 275, \"mrr\": 1141.25}, {\"platform\": \"patreon-premium\", \"plan\": \"premium\", \"subscribers\": 275, \"mrr\": 1086.25}, {\"platform\": \"patreon-lite\", \"plan\": \"lite\", \"subscribers\": 300, \"mrr\": 1290.0}, {\"platform\": \"patreon-pro\", \"plan\": \"pro\", \"subscribers\": 300, \"mrr\": 1245.0}, {\"platform\": \"patreon-premium\", \"plan\": \"premium\", \"subscribers\": 300, \"mrr\": 1185.0}, {\"platform\": \"patreon-lite\", \"plan\": \"lite\", \"subscribers\": 325, \"mrr\": 1397.5}, {\"platform\": \"patreon-pro\", \"plan\": \"pro\", \"subscribers\": 325, \"mrr\": 1348.75}, {\"platform\": \"patreon-premium\", \"plan\": \"premium\", \"subscribers\": 325, \"mrr\": 1283.75}, {\"platform\": \"patreon-lite\", \"plan\": \"lite\", \"subscribers\": 350, \"mrr\": 1505.0}, {\"platform\": \"patreon-pro\", \"plan\": \"pro\", \"subscribers\": 350, \"mrr\": 1452.5}, {\"platform\": \"patreon-premium\", \"plan\": \"premium\", \"subscribers\": 350, \"mrr\": 1382.5}, {\"platform\": \"patreon-lite\", \"plan\": \"lite\", \"subscribers\": 375, \"mrr\": 1612.5}, {\"platform\": \"patreon-pro\", \"plan\": \"pro\", \"subscribers\": 375, \"mrr\": 1556.25}, {\"platform\": \"patreon-premium\", \"plan\": \"premium\", \"subscribers\": 375, \"mrr\": 1481.25}, {\"platform\": \"patreon-lite\", \"plan\": \"lite\", \"subscribers\": 400, \"mrr\": 1720.0}, {\"platform\": \"patreon-pro\", \"plan\": \"pro\", \"subscribers\": 400, \"mrr\": 1660.0}, {\"platform\": \"patreon-premium\", \"plan\": \"premium\", \"subscribers\": 400, \"mrr\": 1580.0}, {\"platform\": \"patreon-lite\", \"plan\": \"lite\", \"subscribers\": 425, \"mrr\": 1827.5}, {\"platform\": \"patreon-pro\", \"plan\": \"pro\", \"subscribers\": 425, \"mrr\": 1763.75}, {\"platform\": \"patreon-premium\", \"plan\": \"premium\", \"subscribers\": 425, \"mrr\": 1678.75}, {\"platform\": \"patreon-lite\", \"plan\": \"lite\", \"subscribers\": 450, \"mrr\": 1935.0}, {\"platform\": \"patreon-pro\", \"plan\": \"pro\", \"subscribers\": 450, \"mrr\": 1867.5}, {\"platform\": \"patreon-premium\", \"plan\": \"premium\", \"subscribers\": 450, \"mrr\": 1777.5}, {\"platform\": \"patreon-lite\", \"plan\": \"lite\", \"subscribers\": 475, \"mrr\": 2042.5}, {\"platform\": \"patreon-pro\", \"plan\": \"pro\", \"subscribers\": 475, \"mrr\": 1971.25}, {\"platform\": \"patreon-premium\", \"plan\": \"premium\", \"subscribers\": 475, \"mrr\": 1876.25}, {\"platform\": \"patreon-lite\", \"plan\": \"lite\", \"subscribers\": 500, \"mrr\": 2150.0}, {\"platform\": \"patreon-pro\", \"plan\": \"pro\", \"subscribers\": 500, \"mrr\": 2075.0}, {\"platform\": \"patreon-premium\", \"plan\": \"premium\", \"subscribers\": 500, \"mrr\": 1975.0}, {\"platform\": \"patreon-lite\", \"plan\": \"lite\", \"subscribers\": 525, \"mrr\": 2257.5}, {\"platform\": \"patreon-pro\", \"plan\": \"pro\", \"subscribers\": 525, \"mrr\": 2178.75}, {\"platform\": \"patreon-premium\", \"plan\": \"premium\", \"subscribers\": 525, \"mrr\": 2073.75}, {\"platform\": \"patreon-lite\", \"plan\": \"lite\", \"subscribers\": 550, \"mrr\": 2365.0}, {\"platform\": \"patreon-pro\", \"plan\": \"pro\", \"subscribers\": 550, \"mrr\": 2282.5}, {\"platform\": \"patreon-premium\", \"plan\": \"premium\", \"subscribers\": 550, \"mrr\": 2172.5}, {\"platform\": \"patreon-lite\", \"plan\": \"lite\", \"subscribers\": 575, \"mrr\": 2472.5}, {\"platform\": \"patreon-pro\", \"plan\": \"pro\", \"subscribers\": 575, \"mrr\": 2386.25}, {\"platform\": \"patreon-premium\", \"plan\": \"premium\", \"subscribers\": 575, \"mrr\": 2271.25}, {\"platform\": \"patreon-lite\", \"plan\": \"lite\", \"subscribers\": 600, \"mrr\": 2580.0}, {\"platform\": \"patreon-pro\", \"plan\": \"pro\", \"subscribers\": 600, \"mrr\": 2490.0}, {\"platform\": \"patreon-premium\", \"plan\": \"premium\", \"subscribers\": 600, \"mrr\": 2370.0}, {\"platform\": \"patreon-lite\", \"plan\": \"lite\", \"subscribers\": 625, \"mrr\": 2687.5}, {\"platform\": \"patreon-pro\", \"plan\": \"pro\", \"subscribers\": 625, \"mrr\": 2593.75}, {\"platform\": \"patreon-premium\", \"plan\": \"premium\", \"subscribers\": 625, \"mrr\": 2468.75}, {\"platform\": \"patreon-lite\", \"plan\": \"lite\", \"subscribers\": 650, \"mrr\": 2795.0}, {\"platform\": \"patreon-pro\", \"plan\": \"pro\", \"subscribers\": 650, \"mrr\": 2697.5}, {\"platform\": \"patreon-premium\", \"plan\": \"premium\", \"subscribers\": 650, \"mrr\": 2567.5}, {\"platform\": \"patreon-lite\", \"plan\": \"lite\", \"subscribers\": 675, \"mrr\": 2902.5}, {\"platform\": \"patreon-pro\", \"plan\": \"pro\", \"subscribers\": 675, \"mrr\": 2801.25}, {\"platform\": \"patreon-premium\", \"plan\": \"premium\", \"subscribers\": 675, \"mrr\": 2666.25}, {\"platform\": \"patreon-lite\", \"plan\": \"lite\", \"subscribers\": 700, \"mrr\": 3010.0}, {\"platform\": \"patreon-pro\", \"plan\": \"pro\", \"subscribers\": 700, \"mrr\": 2905.0}, {\"platform\": \"patreon-premium\", \"plan\": \"premium\", \"subscribers\": 700, \"mrr\": 2765.0}, {\"platform\": \"patreon-lite\", \"plan\": \"lite\", \"subscribers\": 725, \"mrr\": 3117.5}, {\"platform\": \"patreon-pro\", \"plan\": \"pro\", \"subscribers\": 725, \"mrr\": 3008.75}, {\"platform\": \"patreon-premium\", \"plan\": \"premium\", \"subscribers\": 725, \"mrr\": 2863.75}, {\"platform\": \"patreon-lite\", \"plan\": \"lite\", \"subscribers\": 750, \"mrr\": 3225.0}, {\"platform\": \"patreon-pro\", \"plan\": \"pro\", \"subscribers\": 750, \"mrr\": 3112.5}, {\"platform\": \"patreon-premium\", \"plan\": \"premium\", \"subscribers\": 750, \"mrr\": 2962.5}, {\"platform\": \"patreon-lite\", \"plan\": \"lite\", \"subscribers\": 775, \"mrr\": 3332.5}, {\"platform\": \"patreon-pro\", \"plan\": \"pro\", \"subscribers\": 775, \"mrr\": 3216.25}, {\"platform\": \"patreon-premium\", \"plan\": \"premium\", \"subscribers\": 775, \"mrr\": 3061.25}, {\"platform\": \"patreon-lite\", \"plan\": \"lite\", \"subscribers\": 800, \"mrr\": 3440.0}, {\"platform\": \"patreon-pro\", \"plan\": \"pro\", \"subscribers\": 800, \"mrr\": 3320.0}, {\"platform\": \"patreon-premium\", \"plan\": \"premium\", \"subscribers\": 800, \"mrr\": 3160.0}, {\"platform\": \"patreon-lite\", \"plan\": \"lite\", \"subscribers\": 825, \"mrr\": 3547.5}, {\"platform\": \"patreon-pro\", \"plan\": \"pro\", \"subscribers\": 825, \"mrr\": 3423.75}, {\"platform\": \"patreon-premium\", \"plan\": \"premium\", \"subscribers\": 825, \"mrr\": 3258.75}, {\"platform\": \"patreon-lite\", \"plan\": \"lite\", \"subscribers\": 850, \"mrr\": 3655.0}, {\"platform\": \"patreon-pro\", \"plan\": \"pro\", \"subscribers\": 850, \"mrr\": 3527.5}, {\"platform\": \"patreon-premium\", \"plan\": \"premium\", \"subscribers\": 850, \"mrr\": 3357.5}, {\"platform\": \"patreon-lite\", \"plan\": \"lite\", \"subscribers\": 875, \"mrr\": 3762.5}, {\"platform\": \"patreon-pro\", \"plan\": \"pro\", \"subscribers\": 875, \"mrr\": 3631.25}, {\"platform\": \"patreon-premium\", \"plan\": \"premium\", \"subscribers\": 875, \"mrr\": 3456.25}, {\"platform\": \"patreon-lite\", \"plan\": \"lite\", \"subscribers\": 900, \"mrr\": 3870.0}, {\"platform\": \"patreon-pro\", \"plan\": \"pro\", \"subscribers\": 900, \"mrr\": 3735.0}, {\"platform\": \"patreon-premium\", \"plan\": \"premium\", \"subscribers\": 900, \"mrr\": 3555.0}, {\"platform\": \"patreon-lite\", \"plan\": \"lite\", \"subscribers\": 925, \"mrr\": 3977.5}, {\"platform\": \"patreon-pro\", \"plan\": \"pro\", \"subscribers\": 925, \"mrr\": 3838.75}, {\"platform\": \"patreon-premium\", \"plan\": \"premium\", \"subscribers\": 925, \"mrr\": 3653.75}, {\"platform\": \"patreon-lite\", \"plan\": \"lite\", \"subscribers\": 950, \"mrr\": 4085.0}, {\"platform\": \"patreon-pro\", \"plan\": \"pro\", \"subscribers\": 950, \"mrr\": 3942.5}, {\"platform\": \"patreon-premium\", \"plan\": \"premium\", \"subscribers\": 950, \"mrr\": 3752.5}, {\"platform\": \"patreon-lite\", \"plan\": \"lite\", \"subscribers\": 975, \"mrr\": 4192.5}, {\"platform\": \"patreon-pro\", \"plan\": \"pro\", \"subscribers\": 975, \"mrr\": 4046.25}, {\"platform\": \"patreon-premium\", \"plan\": \"premium\", \"subscribers\": 975, \"mrr\": 3851.25}, {\"platform\": \"patreon-lite\", \"plan\": \"lite\", \"subscribers\": 1000, \"mrr\": 4300.0}, {\"platform\": \"patreon-pro\", \"plan\": \"pro\", \"subscribers\": 1000, \"mrr\": 4150.0}, {\"platform\": \"patreon-premium\", \"plan\": \"premium\", \"subscribers\": 1000, \"mrr\": 3950.0}, {\"platform\": \"kofi-contributor\", \"plan\": \"contributor\", \"subscribers\": 0, \"mrr\": 0.0}, {\"platform\": \"kofi-gold\", \"plan\": \"gold\", \"subscribers\": 0, \"mrr\": -6.0}, {\"platform\": \"kofi-contributor\", \"plan\": \"contributor\", \"subscribers\": 25, \"mrr\": 107.5}, {\"platform\": \"kofi-gold\", \"plan\": \"gold\", \"subscribers\": 25, \"mrr\": 107.75}, {\"platform\": \"kofi-contributor\", \"plan\": \"contributor\", \"subscribers\": 50, \"mrr\": 215.0}, {\"platform\": \"kofi-gold\", \"plan\": \"gold\", \"subscribers\": 50, \"mrr\": 221.5}, {\"platform\": \"kofi-contributor\", \"plan\": \"contributor\", \"subscribers\": 75, \"mrr\": 322.5}, {\"platform\": \"kofi-gold\", \"plan\": \"gold\", \"subscribers\": 75, \"mrr\": 335.25}, {\"platform\": \"kofi-contributor\", \"plan\": \"contributor\", \"subscribers\": 100, \"mrr\": 430.0}, {\"platform\": \"kofi-gold\", \"plan\": \"gold\", \"subscribers\": 100, \"mrr\": 449.0}, {\"platform\": \"kofi-contributor\", \"plan\": \"contributor\", \"subscribers\": 125, \"mrr\": 537.5}, {\"platform\": \"kofi-gold\", \"plan\": \"gold\", \"subscribers\": 125, \"mrr\": 562.75}, {\"platform\": \"kofi-contributor\", \"plan\": \"contributor\", \"subscribers\": 150, \"mrr\": 645.0}, {\"platform\": \"kofi-gold\", \"plan\": \"gold\", \"subscribers\": 150, \"mrr\": 676.5}, {\"platform\": \"kofi-contributor\", \"plan\": \"contributor\", \"subscribers\": 175, \"mrr\": 752.5}, {\"platform\": \"kofi-gold\", \"plan\": \"gold\", \"subscribers\": 175, \"mrr\": 790.25}, {\"platform\": \"kofi-contributor\", \"plan\": \"contributor\", \"subscribers\": 200, \"mrr\": 860.0}, {\"platform\": \"kofi-gold\", \"plan\": \"gold\", \"subscribers\": 200, \"mrr\": 904.0}, {\"platform\": \"kofi-contributor\", \"plan\": \"contributor\", \"subscribers\": 225, \"mrr\": 967.5}, {\"platform\": \"kofi-gold\", \"plan\": \"gold\", \"subscribers\": 225, \"mrr\": 1017.75}, {\"platform\": \"kofi-contributor\", \"plan\": \"contributor\", \"subscribers\": 250, \"mrr\": 1075.0}, {\"platform\": \"kofi-gold\", \"plan\": \"gold\", \"subscribers\": 250, \"mrr\": 1131.5}, {\"platform\": \"kofi-contributor\", \"plan\": \"contributor\", \"subscribers\": 275, \"mrr\": 1182.5}, {\"platform\": \"kofi-gold\", \"plan\": \"gold\", \"subscribers\": 275, \"mrr\": 1245.25}, {\"platform\": \"kofi-contributor\", \"plan\": \"contributor\", \"subscribers\": 300, \"mrr\": 1290.0}, {\"platform\": \"kofi-gold\", \"plan\": \"gold\", \"subscribers\": 300, \"mrr\": 1359.0}, {\"platform\": \"kofi-contributor\", \"plan\": \"contributor\", \"subscribers\": 325, \"mrr\": 1397.5}, {\"platform\": \"kofi-gold\", \"plan\": \"gold\", \"subscribers\": 325, \"mrr\": 1472.75}, {\"platform\": \"kofi-contributor\", \"plan\": \"contributor\", \"subscribers\": 350, \"mrr\": 1505.0}, {\"platform\": \"kofi-gold\", \"plan\": \"gold\", \"subscribers\": 350, \"mrr\": 1586.5}, {\"platform\": \"kofi-contributor\", \"plan\": \"contributor\", \"subscribers\": 375, \"mrr\": 1612.5}, {\"platform\": \"kofi-gold\", \"plan\": \"gold\", \"subscribers\": 375, \"mrr\": 1700.25}, {\"platform\": \"kofi-contributor\", \"plan\": \"contributor\", \"subscribers\": 400, \"mrr\": 1720.0}, {\"platform\": \"kofi-gold\", \"plan\": \"gold\", \"subscribers\": 400, \"mrr\": 1814.0}, {\"platform\": \"kofi-contributor\", \"plan\": \"contributor\", \"subscribers\": 425, \"mrr\": 1827.5}, {\"platform\": \"kofi-gold\", \"plan\": \"gold\", \"subscribers\": 425, \"mrr\": 1927.75}, {\"platform\": \"kofi-contributor\", \"plan\": \"contributor\", \"subscribers\": 450, \"mrr\": 1935.0}, {\"platform\": \"kofi-gold\", \"plan\": \"gold\", \"subscribers\": 450, \"mrr\": 2041.5}, {\"platform\": \"kofi-contributor\", \"plan\": \"contributor\", \"subscribers\": 475, \"mrr\": 2042.5}, {\"platform\": \"kofi-gold\", \"plan\": \"gold\", \"subscribers\": 475, \"mrr\": 2155.25}, {\"platform\": \"kofi-contributor\", \"plan\": \"contributor\", \"subscribers\": 500, \"mrr\": 2150.0}, {\"platform\": \"kofi-gold\", \"plan\": \"gold\", \"subscribers\": 500, \"mrr\": 2269.0}, {\"platform\": \"kofi-contributor\", \"plan\": \"contributor\", \"subscribers\": 525, \"mrr\": 2257.5}, {\"platform\": \"kofi-gold\", \"plan\": \"gold\", \"subscribers\": 525, \"mrr\": 2382.75}, {\"platform\": \"kofi-contributor\", \"plan\": \"contributor\", \"subscribers\": 550, \"mrr\": 2365.0}, {\"platform\": \"kofi-gold\", \"plan\": \"gold\", \"subscribers\": 550, \"mrr\": 2496.5}, {\"platform\": \"kofi-contributor\", \"plan\": \"contributor\", \"subscribers\": 575, \"mrr\": 2472.5}, {\"platform\": \"kofi-gold\", \"plan\": \"gold\", \"subscribers\": 575, \"mrr\": 2610.25}, {\"platform\": \"kofi-contributor\", \"plan\": \"contributor\", \"subscribers\": 600, \"mrr\": 2580.0}, {\"platform\": \"kofi-gold\", \"plan\": \"gold\", \"subscribers\": 600, \"mrr\": 2724.0}, {\"platform\": \"kofi-contributor\", \"plan\": \"contributor\", \"subscribers\": 625, \"mrr\": 2687.5}, {\"platform\": \"kofi-gold\", \"plan\": \"gold\", \"subscribers\": 625, \"mrr\": 2837.75}, {\"platform\": \"kofi-contributor\", \"plan\": \"contributor\", \"subscribers\": 650, \"mrr\": 2795.0}, {\"platform\": \"kofi-gold\", \"plan\": \"gold\", \"subscribers\": 650, \"mrr\": 2951.5}, {\"platform\": \"kofi-contributor\", \"plan\": \"contributor\", \"subscribers\": 675, \"mrr\": 2902.5}, {\"platform\": \"kofi-gold\", \"plan\": \"gold\", \"subscribers\": 675, \"mrr\": 3065.25}, {\"platform\": \"kofi-contributor\", \"plan\": \"contributor\", \"subscribers\": 700, \"mrr\": 3010.0}, {\"platform\": \"kofi-gold\", \"plan\": \"gold\", \"subscribers\": 700, \"mrr\": 3179.0}, {\"platform\": \"kofi-contributor\", \"plan\": \"contributor\", \"subscribers\": 725, \"mrr\": 3117.5}, {\"platform\": \"kofi-gold\", \"plan\": \"gold\", \"subscribers\": 725, \"mrr\": 3292.75}, {\"platform\": \"kofi-contributor\", \"plan\": \"contributor\", \"subscribers\": 750, \"mrr\": 3225.0}, {\"platform\": \"kofi-gold\", \"plan\": \"gold\", \"subscribers\": 750, \"mrr\": 3406.5}, {\"platform\": \"kofi-contributor\", \"plan\": \"contributor\", \"subscribers\": 775, \"mrr\": 3332.5}, {\"platform\": \"kofi-gold\", \"plan\": \"gold\", \"subscribers\": 775, \"mrr\": 3520.25}, {\"platform\": \"kofi-contributor\", \"plan\": \"contributor\", \"subscribers\": 800, \"mrr\": 3440.0}, {\"platform\": \"kofi-gold\", \"plan\": \"gold\", \"subscribers\": 800, \"mrr\": 3634.0}, {\"platform\": \"kofi-contributor\", \"plan\": \"contributor\", \"subscribers\": 825, \"mrr\": 3547.5}, {\"platform\": \"kofi-gold\", \"plan\": \"gold\", \"subscribers\": 825, \"mrr\": 3747.75}, {\"platform\": \"kofi-contributor\", \"plan\": \"contributor\", \"subscribers\": 850, \"mrr\": 3655.0}, {\"platform\": \"kofi-gold\", \"plan\": \"gold\", \"subscribers\": 850, \"mrr\": 3861.5}, {\"platform\": \"kofi-contributor\", \"plan\": \"contributor\", \"subscribers\": 875, \"mrr\": 3762.5}, {\"platform\": \"kofi-gold\", \"plan\": \"gold\", \"subscribers\": 875, \"mrr\": 3975.25}, {\"platform\": \"kofi-contributor\", \"plan\": \"contributor\", \"subscribers\": 900, \"mrr\": 3870.0}, {\"platform\": \"kofi-gold\", \"plan\": \"gold\", \"subscribers\": 900, \"mrr\": 4089.0}, {\"platform\": \"kofi-contributor\", \"plan\": \"contributor\", \"subscribers\": 925, \"mrr\": 3977.5}, {\"platform\": \"kofi-gold\", \"plan\": \"gold\", \"subscribers\": 925, \"mrr\": 4202.75}, {\"platform\": \"kofi-contributor\", \"plan\": \"contributor\", \"subscribers\": 950, \"mrr\": 4085.0}, {\"platform\": \"kofi-gold\", \"plan\": \"gold\", \"subscribers\": 950, \"mrr\": 4316.5}, {\"platform\": \"kofi-contributor\", \"plan\": \"contributor\", \"subscribers\": 975, \"mrr\": 4192.5}, {\"platform\": \"kofi-gold\", \"plan\": \"gold\", \"subscribers\": 975, \"mrr\": 4430.25}, {\"platform\": \"kofi-contributor\", \"plan\": \"contributor\", \"subscribers\": 1000, \"mrr\": 4300.0}, {\"platform\": \"kofi-gold\", \"plan\": \"gold\", \"subscribers\": 1000, \"mrr\": 4544.0}, {\"platform\": \"memberful-starter\", \"plan\": \"starter\", \"subscribers\": 0, \"mrr\": 0.0}, {\"platform\": \"memberful-pro\", \"plan\": \"pro\", \"subscribers\": 0, \"mrr\": -25.0}, {\"platform\": \"memberful-premium\", \"plan\": \"premium\", \"subscribers\": 0, \"mrr\": -100.0}, {\"platform\": \"memberful-starter\", \"plan\": \"starter\", \"subscribers\": 25, \"mrr\": 101.25}, {\"platform\": \"memberful-pro\", \"plan\": \"pro\", \"subscribers\": 25, \"mrr\": 82.75}, {\"platform\": \"memberful-premium\", \"plan\": \"premium\", \"subscribers\": 25, \"mrr\": 7.75}, {\"platform\": \"memberful-starter\", \"plan\": \"starter\", \"subscribers\": 50, \"mrr\": 202.5}, {\"platform\": \"memberful-pro\", \"plan\": \"pro\", \"subscribers\": 50, \"mrr\": 190.5}, {\"platform\": \"memberful-premium\", \"plan\": \"premium\", \"subscribers\": 50, \"mrr\": 115.5}, {\"platform\": \"memberful-starter\", \"plan\": \"starter\", \"subscribers\": 75, \"mrr\": 303.75}, {\"platform\": \"memberful-pro\", \"plan\": \"pro\", \"subscribers\": 75, \"mrr\": 298.25}, {\"platform\": \"memberful-premium\", \"plan\": \"premium\", \"subscribers\": 75, \"mrr\": 223.25}, {\"platform\": \"memberful-starter\", \"plan\": \"starter\", \"subscribers\": 100, \"mrr\": 405.0}, {\"platform\": \"memberful-pro\", \"plan\": \"pro\", \"subscribers\": 100, \"mrr\": 406.0}, {\"platform\": \"memberful-premium\", \"plan\": \"premium\", \"subscribers\": 100, \"mrr\": 331.0}, {\"platform\": \"memberful-starter\", \"plan\": \"starter\", \"subscribers\": 125, \"mrr\": 506.25}, {\"platform\": \"memberful-pro\", \"plan\": \"pro\", \"subscribers\": 125, \"mrr\": 513.75}, {\"platform\": \"memberful-premium\", \"plan\": \"premium\", \"subscribers\": 125, \"mrr\": 438.75}, {\"platform\": \"memberful-starter\", \"plan\": \"starter\", \"subscribers\": 150, \"mrr\": 607.5}, {\"platform\": \"memberful-pro\", \"plan\": \"pro\", \"subscribers\": 150, \"mrr\": 621.5}, {\"platform\": \"memberful-premium\", \"plan\": \"premium\", \"subscribers\": 150, \"mrr\": 546.5}, {\"platform\": \"memberful-starter\", \"plan\": \"starter\", \"subscribers\": 175, \"mrr\": 708.75}, {\"platform\": \"memberful-pro\", \"plan\": \"pro\", \"subscribers\": 175, \"mrr\": 729.25}, {\"platform\": \"memberful-premium\", \"plan\": \"premium\", \"subscribers\": 175, \"mrr\": 654.25}, {\"platform\": \"memberful-starter\", \"plan\": \"starter\", \"subscribers\": 200, \"mrr\": 810.0}, {\"platform\": \"memberful-pro\", \"plan\": \"pro\", \"subscribers\": 200, \"mrr\": 837.0}, {\"platform\": \"memberful-premium\", \"plan\": \"premium\", \"subscribers\": 200, \"mrr\": 762.0}, {\"platform\": \"memberful-starter\", \"plan\": \"starter\", \"subscribers\": 225, \"mrr\": 911.25}, {\"platform\": \"memberful-pro\", \"plan\": \"pro\", \"subscribers\": 225, \"mrr\": 944.75}, {\"platform\": \"memberful-premium\", \"plan\": \"premium\", \"subscribers\": 225, \"mrr\": 869.75}, {\"platform\": \"memberful-starter\", \"plan\": \"starter\", \"subscribers\": 250, \"mrr\": 1012.5}, {\"platform\": \"memberful-pro\", \"plan\": \"pro\", \"subscribers\": 250, \"mrr\": 1052.5}, {\"platform\": \"memberful-premium\", \"plan\": \"premium\", \"subscribers\": 250, \"mrr\": 977.5}, {\"platform\": \"memberful-starter\", \"plan\": \"starter\", \"subscribers\": 275, \"mrr\": 1113.75}, {\"platform\": \"memberful-pro\", \"plan\": \"pro\", \"subscribers\": 275, \"mrr\": 1160.25}, {\"platform\": \"memberful-premium\", \"plan\": \"premium\", \"subscribers\": 275, \"mrr\": 1085.25}, {\"platform\": \"memberful-starter\", \"plan\": \"starter\", \"subscribers\": 300, \"mrr\": 1215.0}, {\"platform\": \"memberful-pro\", \"plan\": \"pro\", \"subscribers\": 300, \"mrr\": 1268.0}, {\"platform\": \"memberful-premium\", \"plan\": \"premium\", \"subscribers\": 300, \"mrr\": 1193.0}, {\"platform\": \"memberful-starter\", \"plan\": \"starter\", \"subscribers\": 325, \"mrr\": 1316.25}, {\"platform\": \"memberful-pro\", \"plan\": \"pro\", \"subscribers\": 325, \"mrr\": 1375.75}, {\"platform\": \"memberful-premium\", \"plan\": \"premium\", \"subscribers\": 325, \"mrr\": 1300.75}, {\"platform\": \"memberful-starter\", \"plan\": \"starter\", \"subscribers\": 350, \"mrr\": 1417.5}, {\"platform\": \"memberful-pro\", \"plan\": \"pro\", \"subscribers\": 350, \"mrr\": 1483.5}, {\"platform\": \"memberful-premium\", \"plan\": \"premium\", \"subscribers\": 350, \"mrr\": 1408.5}, {\"platform\": \"memberful-starter\", \"plan\": \"starter\", \"subscribers\": 375, \"mrr\": 1518.75}, {\"platform\": \"memberful-pro\", \"plan\": \"pro\", \"subscribers\": 375, \"mrr\": 1591.25}, {\"platform\": \"memberful-premium\", \"plan\": \"premium\", \"subscribers\": 375, \"mrr\": 1516.25}, {\"platform\": \"memberful-starter\", \"plan\": \"starter\", \"subscribers\": 400, \"mrr\": 1620.0}, {\"platform\": \"memberful-pro\", \"plan\": \"pro\", \"subscribers\": 400, \"mrr\": 1699.0}, {\"platform\": \"memberful-premium\", \"plan\": \"premium\", \"subscribers\": 400, \"mrr\": 1624.0}, {\"platform\": \"memberful-starter\", \"plan\": \"starter\", \"subscribers\": 425, \"mrr\": 1721.25}, {\"platform\": \"memberful-pro\", \"plan\": \"pro\", \"subscribers\": 425, \"mrr\": 1806.75}, {\"platform\": \"memberful-premium\", \"plan\": \"premium\", \"subscribers\": 425, \"mrr\": 1731.75}, {\"platform\": \"memberful-starter\", \"plan\": \"starter\", \"subscribers\": 450, \"mrr\": 1822.5}, {\"platform\": \"memberful-pro\", \"plan\": \"pro\", \"subscribers\": 450, \"mrr\": 1914.5}, {\"platform\": \"memberful-premium\", \"plan\": \"premium\", \"subscribers\": 450, \"mrr\": 1839.5}, {\"platform\": \"memberful-starter\", \"plan\": \"starter\", \"subscribers\": 475, \"mrr\": 1923.75}, {\"platform\": \"memberful-pro\", \"plan\": \"pro\", \"subscribers\": 475, \"mrr\": 2022.25}, {\"platform\": \"memberful-premium\", \"plan\": \"premium\", \"subscribers\": 475, \"mrr\": 1947.25}, {\"platform\": \"memberful-starter\", \"plan\": \"starter\", \"subscribers\": 500, \"mrr\": 2025.0}, {\"platform\": \"memberful-pro\", \"plan\": \"pro\", \"subscribers\": 500, \"mrr\": 2130.0}, {\"platform\": \"memberful-premium\", \"plan\": \"premium\", \"subscribers\": 500, \"mrr\": 2055.0}, {\"platform\": \"memberful-starter\", \"plan\": \"starter\", \"subscribers\": 525, \"mrr\": 2126.25}, {\"platform\": \"memberful-pro\", \"plan\": \"pro\", \"subscribers\": 525, \"mrr\": 2237.75}, {\"platform\": \"memberful-premium\", \"plan\": \"premium\", \"subscribers\": 525, \"mrr\": 2162.75}, {\"platform\": \"memberful-starter\", \"plan\": \"starter\", \"subscribers\": 550, \"mrr\": 2227.5}, {\"platform\": \"memberful-pro\", \"plan\": \"pro\", \"subscribers\": 550, \"mrr\": 2345.5}, {\"platform\": \"memberful-premium\", \"plan\": \"premium\", \"subscribers\": 550, \"mrr\": 2270.5}, {\"platform\": \"memberful-starter\", \"plan\": \"starter\", \"subscribers\": 575, \"mrr\": 2328.75}, {\"platform\": \"memberful-pro\", \"plan\": \"pro\", \"subscribers\": 575, \"mrr\": 2453.25}, {\"platform\": \"memberful-premium\", \"plan\": \"premium\", \"subscribers\": 575, \"mrr\": 2378.25}, {\"platform\": \"memberful-starter\", \"plan\": \"starter\", \"subscribers\": 600, \"mrr\": 2430.0}, {\"platform\": \"memberful-pro\", \"plan\": \"pro\", \"subscribers\": 600, \"mrr\": 2561.0}, {\"platform\": \"memberful-premium\", \"plan\": \"premium\", \"subscribers\": 600, \"mrr\": 2486.0}, {\"platform\": \"memberful-starter\", \"plan\": \"starter\", \"subscribers\": 625, \"mrr\": 2531.25}, {\"platform\": \"memberful-pro\", \"plan\": \"pro\", \"subscribers\": 625, \"mrr\": 2668.75}, {\"platform\": \"memberful-premium\", \"plan\": \"premium\", \"subscribers\": 625, \"mrr\": 2593.75}, {\"platform\": \"memberful-starter\", \"plan\": \"starter\", \"subscribers\": 650, \"mrr\": 2632.5}, {\"platform\": \"memberful-pro\", \"plan\": \"pro\", \"subscribers\": 650, \"mrr\": 2776.5}, {\"platform\": \"memberful-premium\", \"plan\": \"premium\", \"subscribers\": 650, \"mrr\": 2701.5}, {\"platform\": \"memberful-starter\", \"plan\": \"starter\", \"subscribers\": 675, \"mrr\": 2733.75}, {\"platform\": \"memberful-pro\", \"plan\": \"pro\", \"subscribers\": 675, \"mrr\": 2884.25}, {\"platform\": \"memberful-premium\", \"plan\": \"premium\", \"subscribers\": 675, \"mrr\": 2809.25}, {\"platform\": \"memberful-starter\", \"plan\": \"starter\", \"subscribers\": 700, \"mrr\": 2835.0}, {\"platform\": \"memberful-pro\", \"plan\": \"pro\", \"subscribers\": 700, \"mrr\": 2992.0}, {\"platform\": \"memberful-premium\", \"plan\": \"premium\", \"subscribers\": 700, \"mrr\": 2917.0}, {\"platform\": \"memberful-starter\", \"plan\": \"starter\", \"subscribers\": 725, \"mrr\": 2936.25}, {\"platform\": \"memberful-pro\", \"plan\": \"pro\", \"subscribers\": 725, \"mrr\": 3099.75}, {\"platform\": \"memberful-premium\", \"plan\": \"premium\", \"subscribers\": 725, \"mrr\": 3024.75}, {\"platform\": \"memberful-starter\", \"plan\": \"starter\", \"subscribers\": 750, \"mrr\": 3037.5}, {\"platform\": \"memberful-pro\", \"plan\": \"pro\", \"subscribers\": 750, \"mrr\": 3207.5}, {\"platform\": \"memberful-premium\", \"plan\": \"premium\", \"subscribers\": 750, \"mrr\": 3132.5}, {\"platform\": \"memberful-starter\", \"plan\": \"starter\", \"subscribers\": 775, \"mrr\": 3138.75}, {\"platform\": \"memberful-pro\", \"plan\": \"pro\", \"subscribers\": 775, \"mrr\": 3315.25}, {\"platform\": \"memberful-premium\", \"plan\": \"premium\", \"subscribers\": 775, \"mrr\": 3240.25}, {\"platform\": \"memberful-starter\", \"plan\": \"starter\", \"subscribers\": 800, \"mrr\": 3240.0}, {\"platform\": \"memberful-pro\", \"plan\": \"pro\", \"subscribers\": 800, \"mrr\": 3423.0}, {\"platform\": \"memberful-premium\", \"plan\": \"premium\", \"subscribers\": 800, \"mrr\": 3348.0}, {\"platform\": \"memberful-starter\", \"plan\": \"starter\", \"subscribers\": 825, \"mrr\": 3341.25}, {\"platform\": \"memberful-pro\", \"plan\": \"pro\", \"subscribers\": 825, \"mrr\": 3530.75}, {\"platform\": \"memberful-premium\", \"plan\": \"premium\", \"subscribers\": 825, \"mrr\": 3455.75}, {\"platform\": \"memberful-starter\", \"plan\": \"starter\", \"subscribers\": 850, \"mrr\": 3442.5}, {\"platform\": \"memberful-pro\", \"plan\": \"pro\", \"subscribers\": 850, \"mrr\": 3638.5}, {\"platform\": \"memberful-premium\", \"plan\": \"premium\", \"subscribers\": 850, \"mrr\": 3563.5}, {\"platform\": \"memberful-starter\", \"plan\": \"starter\", \"subscribers\": 875, \"mrr\": 3543.75}, {\"platform\": \"memberful-pro\", \"plan\": \"pro\", \"subscribers\": 875, \"mrr\": 3746.25}, {\"platform\": \"memberful-premium\", \"plan\": \"premium\", \"subscribers\": 875, \"mrr\": 3671.25}, {\"platform\": \"memberful-starter\", \"plan\": \"starter\", \"subscribers\": 900, \"mrr\": 3645.0}, {\"platform\": \"memberful-pro\", \"plan\": \"pro\", \"subscribers\": 900, \"mrr\": 3854.0}, {\"platform\": \"memberful-premium\", \"plan\": \"premium\", \"subscribers\": 900, \"mrr\": 3779.0}, {\"platform\": \"memberful-starter\", \"plan\": \"starter\", \"subscribers\": 925, \"mrr\": 3746.25}, {\"platform\": \"memberful-pro\", \"plan\": \"pro\", \"subscribers\": 925, \"mrr\": 3961.75}, {\"platform\": \"memberful-premium\", \"plan\": \"premium\", \"subscribers\": 925, \"mrr\": 3886.75}, {\"platform\": \"memberful-starter\", \"plan\": \"starter\", \"subscribers\": 950, \"mrr\": 3847.5}, {\"platform\": \"memberful-pro\", \"plan\": \"pro\", \"subscribers\": 950, \"mrr\": 4069.5}, {\"platform\": \"memberful-premium\", \"plan\": \"premium\", \"subscribers\": 950, \"mrr\": 3994.5}, {\"platform\": \"memberful-starter\", \"plan\": \"starter\", \"subscribers\": 975, \"mrr\": 3948.75}, {\"platform\": \"memberful-pro\", \"plan\": \"pro\", \"subscribers\": 975, \"mrr\": 4177.25}, {\"platform\": \"memberful-premium\", \"plan\": \"premium\", \"subscribers\": 975, \"mrr\": 4102.25}, {\"platform\": \"memberful-starter\", \"plan\": \"starter\", \"subscribers\": 1000, \"mrr\": 4050.0}, {\"platform\": \"memberful-pro\", \"plan\": \"pro\", \"subscribers\": 1000, \"mrr\": 4285.0}, {\"platform\": \"memberful-premium\", \"plan\": \"premium\", \"subscribers\": 1000, \"mrr\": 4210.0}, {\"platform\": \"stripe-starter\", \"plan\": \"starter\", \"subscribers\": 0, \"mrr\": 0.0}, {\"platform\": \"stripe-scale\", \"plan\": \"scale\", \"subscribers\": 0, \"mrr\": 0.0}, {\"platform\": \"stripe-starter\", \"plan\": \"starter\", \"subscribers\": 25, \"mrr\": 118.75}, {\"platform\": \"stripe-scale\", \"plan\": \"scale\", \"subscribers\": 25, \"mrr\": 115.0}, {\"platform\": \"stripe-starter\", \"plan\": \"starter\", \"subscribers\": 50, \"mrr\": 237.5}, {\"platform\": \"stripe-scale\", \"plan\": \"scale\", \"subscribers\": 50, \"mrr\": 230.0}, {\"platform\": \"stripe-starter\", \"plan\": \"starter\", \"subscribers\": 75, \"mrr\": 356.25}, {\"platform\": \"stripe-scale\", \"plan\": \"scale\", \"subscribers\": 75, \"mrr\": 345.0}, {\"platform\": \"stripe-starter\", \"plan\": \"starter\", \"subscribers\": 100, \"mrr\": 475.0}, {\"platform\": \"stripe-scale\", \"plan\": \"scale\", \"subscribers\": 100, \"mrr\": 460.0}, {\"platform\": \"stripe-starter\", \"plan\": \"starter\", \"subscribers\": 125, \"mrr\": 593.75}, {\"platform\": \"stripe-scale\", \"plan\": \"scale\", \"subscribers\": 125, \"mrr\": 575.0}, {\"platform\": \"stripe-starter\", \"plan\": \"starter\", \"subscribers\": 150, \"mrr\": 712.5}, {\"platform\": \"stripe-scale\", \"plan\": \"scale\", \"subscribers\": 150, \"mrr\": 690.0}, {\"platform\": \"stripe-starter\", \"plan\": \"starter\", \"subscribers\": 175, \"mrr\": 831.25}, {\"platform\": \"stripe-scale\", \"plan\": \"scale\", \"subscribers\": 175, \"mrr\": 805.0}, {\"platform\": \"stripe-starter\", \"plan\": \"starter\", \"subscribers\": 200, \"mrr\": 950.0}, {\"platform\": \"stripe-scale\", \"plan\": \"scale\", \"subscribers\": 200, \"mrr\": 920.0}, {\"platform\": \"stripe-starter\", \"plan\": \"starter\", \"subscribers\": 225, \"mrr\": 1068.75}, {\"platform\": \"stripe-scale\", \"plan\": \"scale\", \"subscribers\": 225, \"mrr\": 1035.0}, {\"platform\": \"stripe-starter\", \"plan\": \"starter\", \"subscribers\": 250, \"mrr\": 1187.5}, {\"platform\": \"stripe-scale\", \"plan\": \"scale\", \"subscribers\": 250, \"mrr\": 1150.0}, {\"platform\": \"stripe-starter\", \"plan\": \"starter\", \"subscribers\": 275, \"mrr\": 1306.25}, {\"platform\": \"stripe-scale\", \"plan\": \"scale\", \"subscribers\": 275, \"mrr\": 1265.0}, {\"platform\": \"stripe-starter\", \"plan\": \"starter\", \"subscribers\": 300, \"mrr\": 1425.0}, {\"platform\": \"stripe-scale\", \"plan\": \"scale\", \"subscribers\": 300, \"mrr\": 1380.0}, {\"platform\": \"stripe-starter\", \"plan\": \"starter\", \"subscribers\": 325, \"mrr\": 1543.75}, {\"platform\": \"stripe-scale\", \"plan\": \"scale\", \"subscribers\": 325, \"mrr\": 1495.0}, {\"platform\": \"stripe-starter\", \"plan\": \"starter\", \"subscribers\": 350, \"mrr\": 1662.5}, {\"platform\": \"stripe-scale\", \"plan\": \"scale\", \"subscribers\": 350, \"mrr\": 1610.0}, {\"platform\": \"stripe-starter\", \"plan\": \"starter\", \"subscribers\": 375, \"mrr\": 1781.25}, {\"platform\": \"stripe-scale\", \"plan\": \"scale\", \"subscribers\": 375, \"mrr\": 1725.0}, {\"platform\": \"stripe-starter\", \"plan\": \"starter\", \"subscribers\": 400, \"mrr\": 1900.0}, {\"platform\": \"stripe-scale\", \"plan\": \"scale\", \"subscribers\": 400, \"mrr\": 1840.0}, {\"platform\": \"stripe-starter\", \"plan\": \"starter\", \"subscribers\": 425, \"mrr\": 2018.75}, {\"platform\": \"stripe-scale\", \"plan\": \"scale\", \"subscribers\": 425, \"mrr\": 1955.0}, {\"platform\": \"stripe-starter\", \"plan\": \"starter\", \"subscribers\": 450, \"mrr\": 2137.5}, {\"platform\": \"stripe-scale\", \"plan\": \"scale\", \"subscribers\": 450, \"mrr\": 2070.0}, {\"platform\": \"stripe-starter\", \"plan\": \"starter\", \"subscribers\": 475, \"mrr\": 2256.25}, {\"platform\": \"stripe-scale\", \"plan\": \"scale\", \"subscribers\": 475, \"mrr\": 2185.0}, {\"platform\": \"stripe-starter\", \"plan\": \"starter\", \"subscribers\": 500, \"mrr\": 2375.0}, {\"platform\": \"stripe-scale\", \"plan\": \"scale\", \"subscribers\": 500, \"mrr\": 2300.0}, {\"platform\": \"stripe-starter\", \"plan\": \"starter\", \"subscribers\": 525, \"mrr\": 2493.75}, {\"platform\": \"stripe-scale\", \"plan\": \"scale\", \"subscribers\": 525, \"mrr\": 2415.0}, {\"platform\": \"stripe-starter\", \"plan\": \"starter\", \"subscribers\": 550, \"mrr\": 2612.5}, {\"platform\": \"stripe-scale\", \"plan\": \"scale\", \"subscribers\": 550, \"mrr\": 2530.0}, {\"platform\": \"stripe-starter\", \"plan\": \"starter\", \"subscribers\": 575, \"mrr\": 2731.25}, {\"platform\": \"stripe-scale\", \"plan\": \"scale\", \"subscribers\": 575, \"mrr\": 2645.0}, {\"platform\": \"stripe-starter\", \"plan\": \"starter\", \"subscribers\": 600, \"mrr\": 2850.0}, {\"platform\": \"stripe-scale\", \"plan\": \"scale\", \"subscribers\": 600, \"mrr\": 2760.0}, {\"platform\": \"stripe-starter\", \"plan\": \"starter\", \"subscribers\": 625, \"mrr\": 2968.75}, {\"platform\": \"stripe-scale\", \"plan\": \"scale\", \"subscribers\": 625, \"mrr\": 2875.0}, {\"platform\": \"stripe-starter\", \"plan\": \"starter\", \"subscribers\": 650, \"mrr\": 3087.5}, {\"platform\": \"stripe-scale\", \"plan\": \"scale\", \"subscribers\": 650, \"mrr\": 2990.0}, {\"platform\": \"stripe-starter\", \"plan\": \"starter\", \"subscribers\": 675, \"mrr\": 3206.25}, {\"platform\": \"stripe-scale\", \"plan\": \"scale\", \"subscribers\": 675, \"mrr\": 3105.0}, {\"platform\": \"stripe-starter\", \"plan\": \"starter\", \"subscribers\": 700, \"mrr\": 3325.0}, {\"platform\": \"stripe-scale\", \"plan\": \"scale\", \"subscribers\": 700, \"mrr\": 3220.0}, {\"platform\": \"stripe-starter\", \"plan\": \"starter\", \"subscribers\": 725, \"mrr\": 3443.75}, {\"platform\": \"stripe-scale\", \"plan\": \"scale\", \"subscribers\": 725, \"mrr\": 3335.0}, {\"platform\": \"stripe-starter\", \"plan\": \"starter\", \"subscribers\": 750, \"mrr\": 3562.5}, {\"platform\": \"stripe-scale\", \"plan\": \"scale\", \"subscribers\": 750, \"mrr\": 3450.0}, {\"platform\": \"stripe-starter\", \"plan\": \"starter\", \"subscribers\": 775, \"mrr\": 3681.25}, {\"platform\": \"stripe-scale\", \"plan\": \"scale\", \"subscribers\": 775, \"mrr\": 3565.0}, {\"platform\": \"stripe-starter\", \"plan\": \"starter\", \"subscribers\": 800, \"mrr\": 3800.0}, {\"platform\": \"stripe-scale\", \"plan\": \"scale\", \"subscribers\": 800, \"mrr\": 3680.0}, {\"platform\": \"stripe-starter\", \"plan\": \"starter\", \"subscribers\": 825, \"mrr\": 3918.75}, {\"platform\": \"stripe-scale\", \"plan\": \"scale\", \"subscribers\": 825, \"mrr\": 3795.0}, {\"platform\": \"stripe-starter\", \"plan\": \"starter\", \"subscribers\": 850, \"mrr\": 4037.5}, {\"platform\": \"stripe-scale\", \"plan\": \"scale\", \"subscribers\": 850, \"mrr\": 3910.0}, {\"platform\": \"stripe-starter\", \"plan\": \"starter\", \"subscribers\": 875, \"mrr\": 4156.25}, {\"platform\": \"stripe-scale\", \"plan\": \"scale\", \"subscribers\": 875, \"mrr\": 4025.0}, {\"platform\": \"stripe-starter\", \"plan\": \"starter\", \"subscribers\": 900, \"mrr\": 4275.0}, {\"platform\": \"stripe-scale\", \"plan\": \"scale\", \"subscribers\": 900, \"mrr\": 4140.0}, {\"platform\": \"stripe-starter\", \"plan\": \"starter\", \"subscribers\": 925, \"mrr\": 4393.75}, {\"platform\": \"stripe-scale\", \"plan\": \"scale\", \"subscribers\": 925, \"mrr\": 4255.0}, {\"platform\": \"stripe-starter\", \"plan\": \"starter\", \"subscribers\": 950, \"mrr\": 4512.5}, {\"platform\": \"stripe-scale\", \"plan\": \"scale\", \"subscribers\": 950, \"mrr\": 4370.0}, {\"platform\": \"stripe-starter\", \"plan\": \"starter\", \"subscribers\": 975, \"mrr\": 4631.25}, {\"platform\": \"stripe-scale\", \"plan\": \"scale\", \"subscribers\": 975, \"mrr\": 4485.0}, {\"platform\": \"stripe-starter\", \"plan\": \"starter\", \"subscribers\": 1000, \"mrr\": 4750.0}, {\"platform\": \"stripe-scale\", \"plan\": \"scale\", \"subscribers\": 1000, \"mrr\": 4600.0}]}}, {\"mode\": \"vega-lite\"});\n",
       "</script>"
      ],
      "text/plain": [
       "alt.LayerChart(...)"
      ]
     },
     "execution_count": 23,
     "metadata": {},
     "output_type": "execute_result"
    }
   ],
   "source": [
    "plt = alt.Chart(\n",
    "    all_platforms\n",
    ").encode(\n",
    "    x=\"subscribers\",\n",
    "    y=\"mrr\",\n",
    "    color=\"platform\",\n",
    "    tooltip=[\"platform\", \"mrr\"]\n",
    ").properties(\n",
    "    width=1024,\n",
    "    height=768\n",
    ")\n",
    "plt.mark_line() + plt.mark_circle()"
   ]
  },
  {
   "cell_type": "markdown",
   "id": "5c96e212-c659-4c3c-91e5-256bb9d50c79",
   "metadata": {
    "tags": []
   },
   "source": [
    "## Pricing Links\n",
    "\n",
    "- [Patreon](https://www.patreon.com/pricing)\n",
    "- [Memberful](https://memberful.com/pricing/)\n",
    "- [Ko-Fi](https://ko-fi.com/gold)\n",
    "- [Stripe Billing](https://stripe.com/billing/pricing)"
   ]
  }
 ],
 "metadata": {
  "kernelspec": {
   "display_name": "Python 3 (ipykernel)",
   "language": "python",
   "name": "python3"
  },
  "language_info": {
   "codemirror_mode": {
    "name": "ipython",
    "version": 3
   },
   "file_extension": ".py",
   "mimetype": "text/x-python",
   "name": "python",
   "nbconvert_exporter": "python",
   "pygments_lexer": "ipython3",
   "version": "3.11.3"
  }
 },
 "nbformat": 4,
 "nbformat_minor": 5
}
