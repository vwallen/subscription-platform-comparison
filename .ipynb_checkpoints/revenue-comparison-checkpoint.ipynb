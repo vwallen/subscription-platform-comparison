{
 "cells": [
  {
   "cell_type": "code",
   "execution_count": 1,
   "id": "b7980c2b-4d91-40d0-affb-11f8a39158e5",
   "metadata": {
    "tags": []
   },
   "outputs": [],
   "source": [
    "import pandas as pd\n",
    "import altair as alt"
   ]
  },
  {
   "cell_type": "code",
   "execution_count": 2,
   "id": "2fb8bad0-44c6-49d2-b494-b0f664f47cf9",
   "metadata": {
    "tags": []
   },
   "outputs": [],
   "source": [
    "def patreon_fee(amt):\n",
    "    if amt > 3.00:\n",
    "        return 0.30 + 0.029 * amt\n",
    "    else:\n",
    "        return 0.10 + 0.050 * amt\n",
    "    \n",
    "def patreon_paid(amt):\n",
    "    return round(amt - patreon_fee(amt), 2)\n",
    "\n",
    "def patreon_mrr(plan, subscribers, paid):\n",
    "    match plan:\n",
    "        case \"lite\":\n",
    "            platform_fee = (subscribers * paid) * 0.05\n",
    "        case \"pro\":\n",
    "            platform_fee = (subscribers * paid) * 0.08\n",
    "        case \"premium\":\n",
    "            platform_fee = (subscribers * paid) * 0.12\n",
    "    income = sum(map(lambda x: patreon_paid(paid), range(subscribers)))\n",
    "    return round(income - platform_fee, 2)"
   ]
  },
  {
   "cell_type": "code",
   "execution_count": 5,
   "id": "60d4ad77-d36d-4806-abda-6f63954b2333",
   "metadata": {
    "tags": []
   },
   "outputs": [],
   "source": [
    "def memberful_fee(plan, amt):\n",
    "    match plan:\n",
    "        case \"starter\":\n",
    "            return 0.30 + 0.029 * amt + 0.100 * amt\n",
    "        case \"pro\" | \"premium\":\n",
    "            return 0.30 + 0.029 * amt + 0.049 * amt\n",
    "        \n",
    "def memberful_paid(plan, amt):\n",
    "    return round(amt - memberful_fee(plan, amt), 2)\n",
    "\n",
    "def memberful_mrr(plan, subscribers, paid):\n",
    "    match plan:\n",
    "        case \"starter\":\n",
    "            platform_fee = 0.00\n",
    "        case \"pro\":\n",
    "            platform_fee = 25.00\n",
    "        case \"premium\":\n",
    "            platform_fee = 100.00\n",
    "    income = sum(map(lambda x: memberful_paid(plan, paid), range(subscribers)))\n",
    "    return round(income - platform_fee, 2)"
   ]
  },
  {
   "cell_type": "code",
   "execution_count": 7,
   "id": "d3726391-5f63-4bef-8e66-f7b1dc362641",
   "metadata": {
    "tags": []
   },
   "outputs": [],
   "source": [
    "def kofi_fee(plan, amt):\n",
    "    match plan:\n",
    "        case \"contributor\":\n",
    "            return 0.30 + 0.029 * amt + 0.05 * amt\n",
    "        case \"gold\":\n",
    "            return 0.30 + 0.029 * amt\n",
    "        \n",
    "def kofi_paid(plan, amt):\n",
    "    return round(amt - kofi_fee(plan, amt), 2)\n",
    "\n",
    "def kofi_mrr(plan, subscribers, paid):\n",
    "    match plan:\n",
    "        case \"contributor\":\n",
    "            platform_fee = 0.00\n",
    "        case \"gold\":\n",
    "            platform_fee = 6.00\n",
    "    income = sum(map(lambda x: kofi_paid(plan, paid), range(subscribers)))\n",
    "    return round(income - platform_fee, 2)"
   ]
  },
  {
   "cell_type": "code",
   "execution_count": 8,
   "id": "f882356c-e685-4304-bbe2-20c563e61b52",
   "metadata": {
    "tags": []
   },
   "outputs": [],
   "source": [
    "def stripe_fee(plan, amt):\n",
    "    match plan:\n",
    "        case \"starter\":\n",
    "            return 0.05 * amt\n",
    "        case \"scale\":\n",
    "            return 0.08 * amt\n",
    "        \n",
    "def stripe_paid(plan, amt):\n",
    "    return round(amt - stripe_fee(plan, amt), 2)\n",
    "\n",
    "def stripe_mrr(plan, subscribers, paid):\n",
    "    platform_fee = 0.00\n",
    "    income = sum(map(lambda x: stripe_paid(plan, paid), range(subscribers)))\n",
    "    return round(income - platform_fee, 2)"
   ]
  },
  {
   "cell_type": "code",
   "execution_count": 65,
   "id": "4fd39deb-200f-486b-93c0-ab3a69bb8b46",
   "metadata": {
    "tags": []
   },
   "outputs": [],
   "source": [
    "START, END, INTERVAL = 0, 500, 25"
   ]
  },
  {
   "cell_type": "code",
   "execution_count": 66,
   "id": "7f2421d7-482f-44f4-b8e1-13ef26995e0d",
   "metadata": {
    "tags": []
   },
   "outputs": [],
   "source": [
    "patreon = []\n",
    "for n in range(START,END + INTERVAL, INTERVAL):\n",
    "    patreon.append({\n",
    "        'platform':'patreon-lite', \n",
    "        'plan':'lite',\n",
    "        'subscribers': n,\n",
    "        'mrr': patreon_mrr('lite', n, 5.00)\n",
    "    })\n",
    "    patreon.append({\n",
    "        'platform':'patreon-pro', \n",
    "        'plan':'pro',\n",
    "        'subscribers': n,\n",
    "        'mrr': patreon_mrr('pro', n, 5.00)\n",
    "    })\n",
    "    patreon.append({\n",
    "        'platform':'patreon-premium', \n",
    "        'plan':'premium',\n",
    "        'subscribers': n,\n",
    "        'mrr': patreon_mrr('premium', n, 5.00)\n",
    "    })"
   ]
  },
  {
   "cell_type": "code",
   "execution_count": 67,
   "id": "67f965b5-8bb2-4f79-9974-e74869ccd189",
   "metadata": {
    "tags": []
   },
   "outputs": [],
   "source": [
    "memberful = []\n",
    "for n in range(START,END + INTERVAL, INTERVAL):\n",
    "    memberful.append({\n",
    "        'platform':'memberful-starter', \n",
    "        'plan':'starter',\n",
    "        'subscribers': n,\n",
    "        'mrr': memberful_mrr('starter', n, 5.00)\n",
    "    })\n",
    "    memberful.append({\n",
    "        'platform':'memberful-pro', \n",
    "        'plan':'pro',\n",
    "        'subscribers': n,\n",
    "        'mrr': memberful_mrr('pro', n, 5.00)\n",
    "    })\n",
    "    memberful.append({\n",
    "        'platform':'memberful-premium', \n",
    "        'plan':'premium',\n",
    "        'subscribers': n,\n",
    "        'mrr': memberful_mrr('premium', n, 5.00)\n",
    "    })"
   ]
  },
  {
   "cell_type": "code",
   "execution_count": 68,
   "id": "24727df5-29f3-4d27-8bef-05f6e9a563a3",
   "metadata": {
    "tags": []
   },
   "outputs": [],
   "source": [
    "kofi = []\n",
    "for n in range(START,END + INTERVAL, INTERVAL):\n",
    "    kofi.append({\n",
    "        'platform':'kofi-contributor', \n",
    "        'plan':'contributor',\n",
    "        'subscribers': n,\n",
    "        'mrr': kofi_mrr('contributor', n, 5.00)\n",
    "    })\n",
    "    kofi.append({\n",
    "        'platform':'kofi-gold', \n",
    "        'plan':'gold',\n",
    "        'subscribers': n,\n",
    "        'mrr': kofi_mrr('gold', n, 5.00)\n",
    "    })"
   ]
  },
  {
   "cell_type": "code",
   "execution_count": 69,
   "id": "0400f532-dd17-4e61-b5c4-a0b942093328",
   "metadata": {
    "tags": []
   },
   "outputs": [],
   "source": [
    "stripe = []\n",
    "for n in range(START,END + INTERVAL, INTERVAL):\n",
    "    stripe.append({\n",
    "        'platform':'stripe-starter', \n",
    "        'plan':'starter',\n",
    "        'subscribers': n,\n",
    "        'mrr': stripe_mrr('starter', n, 5.00)\n",
    "    })\n",
    "    stripe.append({\n",
    "        'platform':'stripe-scale', \n",
    "        'plan':'scale',\n",
    "        'subscribers': n,\n",
    "        'mrr': stripe_mrr('scale', n, 5.00)\n",
    "    })"
   ]
  },
  {
   "cell_type": "code",
   "execution_count": 70,
   "id": "422f08eb-a1d6-4f5f-807b-47f52de95c23",
   "metadata": {
    "tags": []
   },
   "outputs": [],
   "source": [
    "all_platforms = pd.DataFrame(patreon + kofi + memberful + stripe)"
   ]
  },
  {
   "cell_type": "code",
   "execution_count": 72,
   "id": "f64195ca-eb53-47d2-96c8-6654a32ba236",
   "metadata": {
    "tags": []
   },
   "outputs": [
    {
     "data": {
      "text/html": [
       "\n",
       "<div id=\"altair-viz-8adca16954a14924af44f320127f907d\"></div>\n",
       "<script type=\"text/javascript\">\n",
       "  var VEGA_DEBUG = (typeof VEGA_DEBUG == \"undefined\") ? {} : VEGA_DEBUG;\n",
       "  (function(spec, embedOpt){\n",
       "    let outputDiv = document.currentScript.previousElementSibling;\n",
       "    if (outputDiv.id !== \"altair-viz-8adca16954a14924af44f320127f907d\") {\n",
       "      outputDiv = document.getElementById(\"altair-viz-8adca16954a14924af44f320127f907d\");\n",
       "    }\n",
       "    const paths = {\n",
       "      \"vega\": \"https://cdn.jsdelivr.net/npm/vega@5?noext\",\n",
       "      \"vega-lib\": \"https://cdn.jsdelivr.net/npm/vega-lib?noext\",\n",
       "      \"vega-lite\": \"https://cdn.jsdelivr.net/npm/vega-lite@5.6.1?noext\",\n",
       "      \"vega-embed\": \"https://cdn.jsdelivr.net/npm/vega-embed@6?noext\",\n",
       "    };\n",
       "\n",
       "    function maybeLoadScript(lib, version) {\n",
       "      var key = `${lib.replace(\"-\", \"\")}_version`;\n",
       "      return (VEGA_DEBUG[key] == version) ?\n",
       "        Promise.resolve(paths[lib]) :\n",
       "        new Promise(function(resolve, reject) {\n",
       "          var s = document.createElement('script');\n",
       "          document.getElementsByTagName(\"head\")[0].appendChild(s);\n",
       "          s.async = true;\n",
       "          s.onload = () => {\n",
       "            VEGA_DEBUG[key] = version;\n",
       "            return resolve(paths[lib]);\n",
       "          };\n",
       "          s.onerror = () => reject(`Error loading script: ${paths[lib]}`);\n",
       "          s.src = paths[lib];\n",
       "        });\n",
       "    }\n",
       "\n",
       "    function showError(err) {\n",
       "      outputDiv.innerHTML = `<div class=\"error\" style=\"color:red;\">${err}</div>`;\n",
       "      throw err;\n",
       "    }\n",
       "\n",
       "    function displayChart(vegaEmbed) {\n",
       "      vegaEmbed(outputDiv, spec, embedOpt)\n",
       "        .catch(err => showError(`Javascript Error: ${err.message}<br>This usually means there's a typo in your chart specification. See the javascript console for the full traceback.`));\n",
       "    }\n",
       "\n",
       "    if(typeof define === \"function\" && define.amd) {\n",
       "      requirejs.config({paths});\n",
       "      require([\"vega-embed\"], displayChart, err => showError(`Error loading script: ${err.message}`));\n",
       "    } else {\n",
       "      maybeLoadScript(\"vega\", \"5\")\n",
       "        .then(() => maybeLoadScript(\"vega-lite\", \"5.6.1\"))\n",
       "        .then(() => maybeLoadScript(\"vega-embed\", \"6\"))\n",
       "        .catch(showError)\n",
       "        .then(() => displayChart(vegaEmbed));\n",
       "    }\n",
       "  })({\"config\": {\"view\": {\"continuousWidth\": 300, \"continuousHeight\": 300}}, \"layer\": [{\"mark\": {\"type\": \"line\"}, \"encoding\": {\"color\": {\"field\": \"platform\", \"type\": \"nominal\"}, \"tooltip\": [{\"field\": \"platform\", \"type\": \"nominal\"}, {\"field\": \"subscribers\", \"type\": \"quantitative\"}, {\"field\": \"mrr\", \"type\": \"quantitative\"}], \"x\": {\"field\": \"subscribers\", \"type\": \"quantitative\"}, \"y\": {\"field\": \"mrr\", \"type\": \"quantitative\"}}}, {\"mark\": {\"type\": \"circle\"}, \"encoding\": {\"color\": {\"field\": \"platform\", \"type\": \"nominal\"}, \"tooltip\": [{\"field\": \"platform\", \"type\": \"nominal\"}, {\"field\": \"subscribers\", \"type\": \"quantitative\"}, {\"field\": \"mrr\", \"type\": \"quantitative\"}], \"x\": {\"field\": \"subscribers\", \"type\": \"quantitative\"}, \"y\": {\"field\": \"mrr\", \"type\": \"quantitative\"}}}], \"data\": {\"name\": \"data-c00c55ca7ffab23517c5c07f8da317c3\"}, \"height\": 768, \"width\": 1024, \"$schema\": \"https://vega.github.io/schema/vega-lite/v5.6.1.json\", \"datasets\": {\"data-c00c55ca7ffab23517c5c07f8da317c3\": [{\"platform\": \"patreon-lite\", \"plan\": \"lite\", \"subscribers\": 0, \"mrr\": 0.0}, {\"platform\": \"patreon-pro\", \"plan\": \"pro\", \"subscribers\": 0, \"mrr\": 0.0}, {\"platform\": \"patreon-premium\", \"plan\": \"premium\", \"subscribers\": 0, \"mrr\": 0.0}, {\"platform\": \"patreon-lite\", \"plan\": \"lite\", \"subscribers\": 25, \"mrr\": 107.5}, {\"platform\": \"patreon-pro\", \"plan\": \"pro\", \"subscribers\": 25, \"mrr\": 103.75}, {\"platform\": \"patreon-premium\", \"plan\": \"premium\", \"subscribers\": 25, \"mrr\": 98.75}, {\"platform\": \"patreon-lite\", \"plan\": \"lite\", \"subscribers\": 50, \"mrr\": 215.0}, {\"platform\": \"patreon-pro\", \"plan\": \"pro\", \"subscribers\": 50, \"mrr\": 207.5}, {\"platform\": \"patreon-premium\", \"plan\": \"premium\", \"subscribers\": 50, \"mrr\": 197.5}, {\"platform\": \"patreon-lite\", \"plan\": \"lite\", \"subscribers\": 75, \"mrr\": 322.5}, {\"platform\": \"patreon-pro\", \"plan\": \"pro\", \"subscribers\": 75, \"mrr\": 311.25}, {\"platform\": \"patreon-premium\", \"plan\": \"premium\", \"subscribers\": 75, \"mrr\": 296.25}, {\"platform\": \"patreon-lite\", \"plan\": \"lite\", \"subscribers\": 100, \"mrr\": 430.0}, {\"platform\": \"patreon-pro\", \"plan\": \"pro\", \"subscribers\": 100, \"mrr\": 415.0}, {\"platform\": \"patreon-premium\", \"plan\": \"premium\", \"subscribers\": 100, \"mrr\": 395.0}, {\"platform\": \"patreon-lite\", \"plan\": \"lite\", \"subscribers\": 125, \"mrr\": 537.5}, {\"platform\": \"patreon-pro\", \"plan\": \"pro\", \"subscribers\": 125, \"mrr\": 518.75}, {\"platform\": \"patreon-premium\", \"plan\": \"premium\", \"subscribers\": 125, \"mrr\": 493.75}, {\"platform\": \"patreon-lite\", \"plan\": \"lite\", \"subscribers\": 150, \"mrr\": 645.0}, {\"platform\": \"patreon-pro\", \"plan\": \"pro\", \"subscribers\": 150, \"mrr\": 622.5}, {\"platform\": \"patreon-premium\", \"plan\": \"premium\", \"subscribers\": 150, \"mrr\": 592.5}, {\"platform\": \"patreon-lite\", \"plan\": \"lite\", \"subscribers\": 175, \"mrr\": 752.5}, {\"platform\": \"patreon-pro\", \"plan\": \"pro\", \"subscribers\": 175, \"mrr\": 726.25}, {\"platform\": \"patreon-premium\", \"plan\": \"premium\", \"subscribers\": 175, \"mrr\": 691.25}, {\"platform\": \"patreon-lite\", \"plan\": \"lite\", \"subscribers\": 200, \"mrr\": 860.0}, {\"platform\": \"patreon-pro\", \"plan\": \"pro\", \"subscribers\": 200, \"mrr\": 830.0}, {\"platform\": \"patreon-premium\", \"plan\": \"premium\", \"subscribers\": 200, \"mrr\": 790.0}, {\"platform\": \"patreon-lite\", \"plan\": \"lite\", \"subscribers\": 225, \"mrr\": 967.5}, {\"platform\": \"patreon-pro\", \"plan\": \"pro\", \"subscribers\": 225, \"mrr\": 933.75}, {\"platform\": \"patreon-premium\", \"plan\": \"premium\", \"subscribers\": 225, \"mrr\": 888.75}, {\"platform\": \"patreon-lite\", \"plan\": \"lite\", \"subscribers\": 250, \"mrr\": 1075.0}, {\"platform\": \"patreon-pro\", \"plan\": \"pro\", \"subscribers\": 250, \"mrr\": 1037.5}, {\"platform\": \"patreon-premium\", \"plan\": \"premium\", \"subscribers\": 250, \"mrr\": 987.5}, {\"platform\": \"patreon-lite\", \"plan\": \"lite\", \"subscribers\": 275, \"mrr\": 1182.5}, {\"platform\": \"patreon-pro\", \"plan\": \"pro\", \"subscribers\": 275, \"mrr\": 1141.25}, {\"platform\": \"patreon-premium\", \"plan\": \"premium\", \"subscribers\": 275, \"mrr\": 1086.25}, {\"platform\": \"patreon-lite\", \"plan\": \"lite\", \"subscribers\": 300, \"mrr\": 1290.0}, {\"platform\": \"patreon-pro\", \"plan\": \"pro\", \"subscribers\": 300, \"mrr\": 1245.0}, {\"platform\": \"patreon-premium\", \"plan\": \"premium\", \"subscribers\": 300, \"mrr\": 1185.0}, {\"platform\": \"patreon-lite\", \"plan\": \"lite\", \"subscribers\": 325, \"mrr\": 1397.5}, {\"platform\": \"patreon-pro\", \"plan\": \"pro\", \"subscribers\": 325, \"mrr\": 1348.75}, {\"platform\": \"patreon-premium\", \"plan\": \"premium\", \"subscribers\": 325, \"mrr\": 1283.75}, {\"platform\": \"patreon-lite\", \"plan\": \"lite\", \"subscribers\": 350, \"mrr\": 1505.0}, {\"platform\": \"patreon-pro\", \"plan\": \"pro\", \"subscribers\": 350, \"mrr\": 1452.5}, {\"platform\": \"patreon-premium\", \"plan\": \"premium\", \"subscribers\": 350, \"mrr\": 1382.5}, {\"platform\": \"patreon-lite\", \"plan\": \"lite\", \"subscribers\": 375, \"mrr\": 1612.5}, {\"platform\": \"patreon-pro\", \"plan\": \"pro\", \"subscribers\": 375, \"mrr\": 1556.25}, {\"platform\": \"patreon-premium\", \"plan\": \"premium\", \"subscribers\": 375, \"mrr\": 1481.25}, {\"platform\": \"patreon-lite\", \"plan\": \"lite\", \"subscribers\": 400, \"mrr\": 1720.0}, {\"platform\": \"patreon-pro\", \"plan\": \"pro\", \"subscribers\": 400, \"mrr\": 1660.0}, {\"platform\": \"patreon-premium\", \"plan\": \"premium\", \"subscribers\": 400, \"mrr\": 1580.0}, {\"platform\": \"patreon-lite\", \"plan\": \"lite\", \"subscribers\": 425, \"mrr\": 1827.5}, {\"platform\": \"patreon-pro\", \"plan\": \"pro\", \"subscribers\": 425, \"mrr\": 1763.75}, {\"platform\": \"patreon-premium\", \"plan\": \"premium\", \"subscribers\": 425, \"mrr\": 1678.75}, {\"platform\": \"patreon-lite\", \"plan\": \"lite\", \"subscribers\": 450, \"mrr\": 1935.0}, {\"platform\": \"patreon-pro\", \"plan\": \"pro\", \"subscribers\": 450, \"mrr\": 1867.5}, {\"platform\": \"patreon-premium\", \"plan\": \"premium\", \"subscribers\": 450, \"mrr\": 1777.5}, {\"platform\": \"patreon-lite\", \"plan\": \"lite\", \"subscribers\": 475, \"mrr\": 2042.5}, {\"platform\": \"patreon-pro\", \"plan\": \"pro\", \"subscribers\": 475, \"mrr\": 1971.25}, {\"platform\": \"patreon-premium\", \"plan\": \"premium\", \"subscribers\": 475, \"mrr\": 1876.25}, {\"platform\": \"patreon-lite\", \"plan\": \"lite\", \"subscribers\": 500, \"mrr\": 2150.0}, {\"platform\": \"patreon-pro\", \"plan\": \"pro\", \"subscribers\": 500, \"mrr\": 2075.0}, {\"platform\": \"patreon-premium\", \"plan\": \"premium\", \"subscribers\": 500, \"mrr\": 1975.0}, {\"platform\": \"kofi-contributor\", \"plan\": \"contributor\", \"subscribers\": 0, \"mrr\": 0.0}, {\"platform\": \"kofi-gold\", \"plan\": \"gold\", \"subscribers\": 0, \"mrr\": -6.0}, {\"platform\": \"kofi-contributor\", \"plan\": \"contributor\", \"subscribers\": 25, \"mrr\": 107.5}, {\"platform\": \"kofi-gold\", \"plan\": \"gold\", \"subscribers\": 25, \"mrr\": 107.75}, {\"platform\": \"kofi-contributor\", \"plan\": \"contributor\", \"subscribers\": 50, \"mrr\": 215.0}, {\"platform\": \"kofi-gold\", \"plan\": \"gold\", \"subscribers\": 50, \"mrr\": 221.5}, {\"platform\": \"kofi-contributor\", \"plan\": \"contributor\", \"subscribers\": 75, \"mrr\": 322.5}, {\"platform\": \"kofi-gold\", \"plan\": \"gold\", \"subscribers\": 75, \"mrr\": 335.25}, {\"platform\": \"kofi-contributor\", \"plan\": \"contributor\", \"subscribers\": 100, \"mrr\": 430.0}, {\"platform\": \"kofi-gold\", \"plan\": \"gold\", \"subscribers\": 100, \"mrr\": 449.0}, {\"platform\": \"kofi-contributor\", \"plan\": \"contributor\", \"subscribers\": 125, \"mrr\": 537.5}, {\"platform\": \"kofi-gold\", \"plan\": \"gold\", \"subscribers\": 125, \"mrr\": 562.75}, {\"platform\": \"kofi-contributor\", \"plan\": \"contributor\", \"subscribers\": 150, \"mrr\": 645.0}, {\"platform\": \"kofi-gold\", \"plan\": \"gold\", \"subscribers\": 150, \"mrr\": 676.5}, {\"platform\": \"kofi-contributor\", \"plan\": \"contributor\", \"subscribers\": 175, \"mrr\": 752.5}, {\"platform\": \"kofi-gold\", \"plan\": \"gold\", \"subscribers\": 175, \"mrr\": 790.25}, {\"platform\": \"kofi-contributor\", \"plan\": \"contributor\", \"subscribers\": 200, \"mrr\": 860.0}, {\"platform\": \"kofi-gold\", \"plan\": \"gold\", \"subscribers\": 200, \"mrr\": 904.0}, {\"platform\": \"kofi-contributor\", \"plan\": \"contributor\", \"subscribers\": 225, \"mrr\": 967.5}, {\"platform\": \"kofi-gold\", \"plan\": \"gold\", \"subscribers\": 225, \"mrr\": 1017.75}, {\"platform\": \"kofi-contributor\", \"plan\": \"contributor\", \"subscribers\": 250, \"mrr\": 1075.0}, {\"platform\": \"kofi-gold\", \"plan\": \"gold\", \"subscribers\": 250, \"mrr\": 1131.5}, {\"platform\": \"kofi-contributor\", \"plan\": \"contributor\", \"subscribers\": 275, \"mrr\": 1182.5}, {\"platform\": \"kofi-gold\", \"plan\": \"gold\", \"subscribers\": 275, \"mrr\": 1245.25}, {\"platform\": \"kofi-contributor\", \"plan\": \"contributor\", \"subscribers\": 300, \"mrr\": 1290.0}, {\"platform\": \"kofi-gold\", \"plan\": \"gold\", \"subscribers\": 300, \"mrr\": 1359.0}, {\"platform\": \"kofi-contributor\", \"plan\": \"contributor\", \"subscribers\": 325, \"mrr\": 1397.5}, {\"platform\": \"kofi-gold\", \"plan\": \"gold\", \"subscribers\": 325, \"mrr\": 1472.75}, {\"platform\": \"kofi-contributor\", \"plan\": \"contributor\", \"subscribers\": 350, \"mrr\": 1505.0}, {\"platform\": \"kofi-gold\", \"plan\": \"gold\", \"subscribers\": 350, \"mrr\": 1586.5}, {\"platform\": \"kofi-contributor\", \"plan\": \"contributor\", \"subscribers\": 375, \"mrr\": 1612.5}, {\"platform\": \"kofi-gold\", \"plan\": \"gold\", \"subscribers\": 375, \"mrr\": 1700.25}, {\"platform\": \"kofi-contributor\", \"plan\": \"contributor\", \"subscribers\": 400, \"mrr\": 1720.0}, {\"platform\": \"kofi-gold\", \"plan\": \"gold\", \"subscribers\": 400, \"mrr\": 1814.0}, {\"platform\": \"kofi-contributor\", \"plan\": \"contributor\", \"subscribers\": 425, \"mrr\": 1827.5}, {\"platform\": \"kofi-gold\", \"plan\": \"gold\", \"subscribers\": 425, \"mrr\": 1927.75}, {\"platform\": \"kofi-contributor\", \"plan\": \"contributor\", \"subscribers\": 450, \"mrr\": 1935.0}, {\"platform\": \"kofi-gold\", \"plan\": \"gold\", \"subscribers\": 450, \"mrr\": 2041.5}, {\"platform\": \"kofi-contributor\", \"plan\": \"contributor\", \"subscribers\": 475, \"mrr\": 2042.5}, {\"platform\": \"kofi-gold\", \"plan\": \"gold\", \"subscribers\": 475, \"mrr\": 2155.25}, {\"platform\": \"kofi-contributor\", \"plan\": \"contributor\", \"subscribers\": 500, \"mrr\": 2150.0}, {\"platform\": \"kofi-gold\", \"plan\": \"gold\", \"subscribers\": 500, \"mrr\": 2269.0}, {\"platform\": \"memberful-starter\", \"plan\": \"starter\", \"subscribers\": 0, \"mrr\": 0.0}, {\"platform\": \"memberful-pro\", \"plan\": \"pro\", \"subscribers\": 0, \"mrr\": -25.0}, {\"platform\": \"memberful-premium\", \"plan\": \"premium\", \"subscribers\": 0, \"mrr\": -100.0}, {\"platform\": \"memberful-starter\", \"plan\": \"starter\", \"subscribers\": 25, \"mrr\": 101.25}, {\"platform\": \"memberful-pro\", \"plan\": \"pro\", \"subscribers\": 25, \"mrr\": 82.75}, {\"platform\": \"memberful-premium\", \"plan\": \"premium\", \"subscribers\": 25, \"mrr\": 7.75}, {\"platform\": \"memberful-starter\", \"plan\": \"starter\", \"subscribers\": 50, \"mrr\": 202.5}, {\"platform\": \"memberful-pro\", \"plan\": \"pro\", \"subscribers\": 50, \"mrr\": 190.5}, {\"platform\": \"memberful-premium\", \"plan\": \"premium\", \"subscribers\": 50, \"mrr\": 115.5}, {\"platform\": \"memberful-starter\", \"plan\": \"starter\", \"subscribers\": 75, \"mrr\": 303.75}, {\"platform\": \"memberful-pro\", \"plan\": \"pro\", \"subscribers\": 75, \"mrr\": 298.25}, {\"platform\": \"memberful-premium\", \"plan\": \"premium\", \"subscribers\": 75, \"mrr\": 223.25}, {\"platform\": \"memberful-starter\", \"plan\": \"starter\", \"subscribers\": 100, \"mrr\": 405.0}, {\"platform\": \"memberful-pro\", \"plan\": \"pro\", \"subscribers\": 100, \"mrr\": 406.0}, {\"platform\": \"memberful-premium\", \"plan\": \"premium\", \"subscribers\": 100, \"mrr\": 331.0}, {\"platform\": \"memberful-starter\", \"plan\": \"starter\", \"subscribers\": 125, \"mrr\": 506.25}, {\"platform\": \"memberful-pro\", \"plan\": \"pro\", \"subscribers\": 125, \"mrr\": 513.75}, {\"platform\": \"memberful-premium\", \"plan\": \"premium\", \"subscribers\": 125, \"mrr\": 438.75}, {\"platform\": \"memberful-starter\", \"plan\": \"starter\", \"subscribers\": 150, \"mrr\": 607.5}, {\"platform\": \"memberful-pro\", \"plan\": \"pro\", \"subscribers\": 150, \"mrr\": 621.5}, {\"platform\": \"memberful-premium\", \"plan\": \"premium\", \"subscribers\": 150, \"mrr\": 546.5}, {\"platform\": \"memberful-starter\", \"plan\": \"starter\", \"subscribers\": 175, \"mrr\": 708.75}, {\"platform\": \"memberful-pro\", \"plan\": \"pro\", \"subscribers\": 175, \"mrr\": 729.25}, {\"platform\": \"memberful-premium\", \"plan\": \"premium\", \"subscribers\": 175, \"mrr\": 654.25}, {\"platform\": \"memberful-starter\", \"plan\": \"starter\", \"subscribers\": 200, \"mrr\": 810.0}, {\"platform\": \"memberful-pro\", \"plan\": \"pro\", \"subscribers\": 200, \"mrr\": 837.0}, {\"platform\": \"memberful-premium\", \"plan\": \"premium\", \"subscribers\": 200, \"mrr\": 762.0}, {\"platform\": \"memberful-starter\", \"plan\": \"starter\", \"subscribers\": 225, \"mrr\": 911.25}, {\"platform\": \"memberful-pro\", \"plan\": \"pro\", \"subscribers\": 225, \"mrr\": 944.75}, {\"platform\": \"memberful-premium\", \"plan\": \"premium\", \"subscribers\": 225, \"mrr\": 869.75}, {\"platform\": \"memberful-starter\", \"plan\": \"starter\", \"subscribers\": 250, \"mrr\": 1012.5}, {\"platform\": \"memberful-pro\", \"plan\": \"pro\", \"subscribers\": 250, \"mrr\": 1052.5}, {\"platform\": \"memberful-premium\", \"plan\": \"premium\", \"subscribers\": 250, \"mrr\": 977.5}, {\"platform\": \"memberful-starter\", \"plan\": \"starter\", \"subscribers\": 275, \"mrr\": 1113.75}, {\"platform\": \"memberful-pro\", \"plan\": \"pro\", \"subscribers\": 275, \"mrr\": 1160.25}, {\"platform\": \"memberful-premium\", \"plan\": \"premium\", \"subscribers\": 275, \"mrr\": 1085.25}, {\"platform\": \"memberful-starter\", \"plan\": \"starter\", \"subscribers\": 300, \"mrr\": 1215.0}, {\"platform\": \"memberful-pro\", \"plan\": \"pro\", \"subscribers\": 300, \"mrr\": 1268.0}, {\"platform\": \"memberful-premium\", \"plan\": \"premium\", \"subscribers\": 300, \"mrr\": 1193.0}, {\"platform\": \"memberful-starter\", \"plan\": \"starter\", \"subscribers\": 325, \"mrr\": 1316.25}, {\"platform\": \"memberful-pro\", \"plan\": \"pro\", \"subscribers\": 325, \"mrr\": 1375.75}, {\"platform\": \"memberful-premium\", \"plan\": \"premium\", \"subscribers\": 325, \"mrr\": 1300.75}, {\"platform\": \"memberful-starter\", \"plan\": \"starter\", \"subscribers\": 350, \"mrr\": 1417.5}, {\"platform\": \"memberful-pro\", \"plan\": \"pro\", \"subscribers\": 350, \"mrr\": 1483.5}, {\"platform\": \"memberful-premium\", \"plan\": \"premium\", \"subscribers\": 350, \"mrr\": 1408.5}, {\"platform\": \"memberful-starter\", \"plan\": \"starter\", \"subscribers\": 375, \"mrr\": 1518.75}, {\"platform\": \"memberful-pro\", \"plan\": \"pro\", \"subscribers\": 375, \"mrr\": 1591.25}, {\"platform\": \"memberful-premium\", \"plan\": \"premium\", \"subscribers\": 375, \"mrr\": 1516.25}, {\"platform\": \"memberful-starter\", \"plan\": \"starter\", \"subscribers\": 400, \"mrr\": 1620.0}, {\"platform\": \"memberful-pro\", \"plan\": \"pro\", \"subscribers\": 400, \"mrr\": 1699.0}, {\"platform\": \"memberful-premium\", \"plan\": \"premium\", \"subscribers\": 400, \"mrr\": 1624.0}, {\"platform\": \"memberful-starter\", \"plan\": \"starter\", \"subscribers\": 425, \"mrr\": 1721.25}, {\"platform\": \"memberful-pro\", \"plan\": \"pro\", \"subscribers\": 425, \"mrr\": 1806.75}, {\"platform\": \"memberful-premium\", \"plan\": \"premium\", \"subscribers\": 425, \"mrr\": 1731.75}, {\"platform\": \"memberful-starter\", \"plan\": \"starter\", \"subscribers\": 450, \"mrr\": 1822.5}, {\"platform\": \"memberful-pro\", \"plan\": \"pro\", \"subscribers\": 450, \"mrr\": 1914.5}, {\"platform\": \"memberful-premium\", \"plan\": \"premium\", \"subscribers\": 450, \"mrr\": 1839.5}, {\"platform\": \"memberful-starter\", \"plan\": \"starter\", \"subscribers\": 475, \"mrr\": 1923.75}, {\"platform\": \"memberful-pro\", \"plan\": \"pro\", \"subscribers\": 475, \"mrr\": 2022.25}, {\"platform\": \"memberful-premium\", \"plan\": \"premium\", \"subscribers\": 475, \"mrr\": 1947.25}, {\"platform\": \"memberful-starter\", \"plan\": \"starter\", \"subscribers\": 500, \"mrr\": 2025.0}, {\"platform\": \"memberful-pro\", \"plan\": \"pro\", \"subscribers\": 500, \"mrr\": 2130.0}, {\"platform\": \"memberful-premium\", \"plan\": \"premium\", \"subscribers\": 500, \"mrr\": 2055.0}, {\"platform\": \"stripe-starter\", \"plan\": \"starter\", \"subscribers\": 0, \"mrr\": 0.0}, {\"platform\": \"stripe-scale\", \"plan\": \"scale\", \"subscribers\": 0, \"mrr\": 0.0}, {\"platform\": \"stripe-starter\", \"plan\": \"starter\", \"subscribers\": 25, \"mrr\": 118.75}, {\"platform\": \"stripe-scale\", \"plan\": \"scale\", \"subscribers\": 25, \"mrr\": 115.0}, {\"platform\": \"stripe-starter\", \"plan\": \"starter\", \"subscribers\": 50, \"mrr\": 237.5}, {\"platform\": \"stripe-scale\", \"plan\": \"scale\", \"subscribers\": 50, \"mrr\": 230.0}, {\"platform\": \"stripe-starter\", \"plan\": \"starter\", \"subscribers\": 75, \"mrr\": 356.25}, {\"platform\": \"stripe-scale\", \"plan\": \"scale\", \"subscribers\": 75, \"mrr\": 345.0}, {\"platform\": \"stripe-starter\", \"plan\": \"starter\", \"subscribers\": 100, \"mrr\": 475.0}, {\"platform\": \"stripe-scale\", \"plan\": \"scale\", \"subscribers\": 100, \"mrr\": 460.0}, {\"platform\": \"stripe-starter\", \"plan\": \"starter\", \"subscribers\": 125, \"mrr\": 593.75}, {\"platform\": \"stripe-scale\", \"plan\": \"scale\", \"subscribers\": 125, \"mrr\": 575.0}, {\"platform\": \"stripe-starter\", \"plan\": \"starter\", \"subscribers\": 150, \"mrr\": 712.5}, {\"platform\": \"stripe-scale\", \"plan\": \"scale\", \"subscribers\": 150, \"mrr\": 690.0}, {\"platform\": \"stripe-starter\", \"plan\": \"starter\", \"subscribers\": 175, \"mrr\": 831.25}, {\"platform\": \"stripe-scale\", \"plan\": \"scale\", \"subscribers\": 175, \"mrr\": 805.0}, {\"platform\": \"stripe-starter\", \"plan\": \"starter\", \"subscribers\": 200, \"mrr\": 950.0}, {\"platform\": \"stripe-scale\", \"plan\": \"scale\", \"subscribers\": 200, \"mrr\": 920.0}, {\"platform\": \"stripe-starter\", \"plan\": \"starter\", \"subscribers\": 225, \"mrr\": 1068.75}, {\"platform\": \"stripe-scale\", \"plan\": \"scale\", \"subscribers\": 225, \"mrr\": 1035.0}, {\"platform\": \"stripe-starter\", \"plan\": \"starter\", \"subscribers\": 250, \"mrr\": 1187.5}, {\"platform\": \"stripe-scale\", \"plan\": \"scale\", \"subscribers\": 250, \"mrr\": 1150.0}, {\"platform\": \"stripe-starter\", \"plan\": \"starter\", \"subscribers\": 275, \"mrr\": 1306.25}, {\"platform\": \"stripe-scale\", \"plan\": \"scale\", \"subscribers\": 275, \"mrr\": 1265.0}, {\"platform\": \"stripe-starter\", \"plan\": \"starter\", \"subscribers\": 300, \"mrr\": 1425.0}, {\"platform\": \"stripe-scale\", \"plan\": \"scale\", \"subscribers\": 300, \"mrr\": 1380.0}, {\"platform\": \"stripe-starter\", \"plan\": \"starter\", \"subscribers\": 325, \"mrr\": 1543.75}, {\"platform\": \"stripe-scale\", \"plan\": \"scale\", \"subscribers\": 325, \"mrr\": 1495.0}, {\"platform\": \"stripe-starter\", \"plan\": \"starter\", \"subscribers\": 350, \"mrr\": 1662.5}, {\"platform\": \"stripe-scale\", \"plan\": \"scale\", \"subscribers\": 350, \"mrr\": 1610.0}, {\"platform\": \"stripe-starter\", \"plan\": \"starter\", \"subscribers\": 375, \"mrr\": 1781.25}, {\"platform\": \"stripe-scale\", \"plan\": \"scale\", \"subscribers\": 375, \"mrr\": 1725.0}, {\"platform\": \"stripe-starter\", \"plan\": \"starter\", \"subscribers\": 400, \"mrr\": 1900.0}, {\"platform\": \"stripe-scale\", \"plan\": \"scale\", \"subscribers\": 400, \"mrr\": 1840.0}, {\"platform\": \"stripe-starter\", \"plan\": \"starter\", \"subscribers\": 425, \"mrr\": 2018.75}, {\"platform\": \"stripe-scale\", \"plan\": \"scale\", \"subscribers\": 425, \"mrr\": 1955.0}, {\"platform\": \"stripe-starter\", \"plan\": \"starter\", \"subscribers\": 450, \"mrr\": 2137.5}, {\"platform\": \"stripe-scale\", \"plan\": \"scale\", \"subscribers\": 450, \"mrr\": 2070.0}, {\"platform\": \"stripe-starter\", \"plan\": \"starter\", \"subscribers\": 475, \"mrr\": 2256.25}, {\"platform\": \"stripe-scale\", \"plan\": \"scale\", \"subscribers\": 475, \"mrr\": 2185.0}, {\"platform\": \"stripe-starter\", \"plan\": \"starter\", \"subscribers\": 500, \"mrr\": 2375.0}, {\"platform\": \"stripe-scale\", \"plan\": \"scale\", \"subscribers\": 500, \"mrr\": 2300.0}]}}, {\"mode\": \"vega-lite\"});\n",
       "</script>"
      ],
      "text/plain": [
       "alt.LayerChart(...)"
      ]
     },
     "execution_count": 72,
     "metadata": {},
     "output_type": "execute_result"
    }
   ],
   "source": [
    "plt = alt.Chart(\n",
    "    all_platforms\n",
    ").encode(\n",
    "    x=\"subscribers\",\n",
    "    y=\"mrr\",\n",
    "    color=\"platform\",\n",
    "    tooltip=[\"platform\", \"subscribers\", \"mrr\"]\n",
    ").properties(\n",
    "    width=1024,\n",
    "    height=768\n",
    ")\n",
    "plt.mark_line() + plt.mark_circle()"
   ]
  },
  {
   "cell_type": "code",
   "execution_count": 43,
   "id": "4ca87c9e-4e0e-4e4e-9695-1e9a17dbbef2",
   "metadata": {
    "tags": []
   },
   "outputs": [
    {
     "data": {
      "text/html": [
       "\n",
       "<div id=\"altair-viz-9a82614f75e54285918a16f5499b0b20\"></div>\n",
       "<script type=\"text/javascript\">\n",
       "  var VEGA_DEBUG = (typeof VEGA_DEBUG == \"undefined\") ? {} : VEGA_DEBUG;\n",
       "  (function(spec, embedOpt){\n",
       "    let outputDiv = document.currentScript.previousElementSibling;\n",
       "    if (outputDiv.id !== \"altair-viz-9a82614f75e54285918a16f5499b0b20\") {\n",
       "      outputDiv = document.getElementById(\"altair-viz-9a82614f75e54285918a16f5499b0b20\");\n",
       "    }\n",
       "    const paths = {\n",
       "      \"vega\": \"https://cdn.jsdelivr.net/npm/vega@5?noext\",\n",
       "      \"vega-lib\": \"https://cdn.jsdelivr.net/npm/vega-lib?noext\",\n",
       "      \"vega-lite\": \"https://cdn.jsdelivr.net/npm/vega-lite@5.6.1?noext\",\n",
       "      \"vega-embed\": \"https://cdn.jsdelivr.net/npm/vega-embed@6?noext\",\n",
       "    };\n",
       "\n",
       "    function maybeLoadScript(lib, version) {\n",
       "      var key = `${lib.replace(\"-\", \"\")}_version`;\n",
       "      return (VEGA_DEBUG[key] == version) ?\n",
       "        Promise.resolve(paths[lib]) :\n",
       "        new Promise(function(resolve, reject) {\n",
       "          var s = document.createElement('script');\n",
       "          document.getElementsByTagName(\"head\")[0].appendChild(s);\n",
       "          s.async = true;\n",
       "          s.onload = () => {\n",
       "            VEGA_DEBUG[key] = version;\n",
       "            return resolve(paths[lib]);\n",
       "          };\n",
       "          s.onerror = () => reject(`Error loading script: ${paths[lib]}`);\n",
       "          s.src = paths[lib];\n",
       "        });\n",
       "    }\n",
       "\n",
       "    function showError(err) {\n",
       "      outputDiv.innerHTML = `<div class=\"error\" style=\"color:red;\">${err}</div>`;\n",
       "      throw err;\n",
       "    }\n",
       "\n",
       "    function displayChart(vegaEmbed) {\n",
       "      vegaEmbed(outputDiv, spec, embedOpt)\n",
       "        .catch(err => showError(`Javascript Error: ${err.message}<br>This usually means there's a typo in your chart specification. See the javascript console for the full traceback.`));\n",
       "    }\n",
       "\n",
       "    if(typeof define === \"function\" && define.amd) {\n",
       "      requirejs.config({paths});\n",
       "      require([\"vega-embed\"], displayChart, err => showError(`Error loading script: ${err.message}`));\n",
       "    } else {\n",
       "      maybeLoadScript(\"vega\", \"5\")\n",
       "        .then(() => maybeLoadScript(\"vega-lite\", \"5.6.1\"))\n",
       "        .then(() => maybeLoadScript(\"vega-embed\", \"6\"))\n",
       "        .catch(showError)\n",
       "        .then(() => displayChart(vegaEmbed));\n",
       "    }\n",
       "  })({\"config\": {\"view\": {\"continuousWidth\": 300, \"continuousHeight\": 300}}, \"layer\": [{\"mark\": {\"type\": \"line\"}, \"encoding\": {\"color\": {\"field\": \"platform\", \"type\": \"nominal\"}, \"tooltip\": [{\"field\": \"platform\", \"type\": \"nominal\"}, {\"field\": \"subscribers\", \"type\": \"quantitative\"}, {\"field\": \"mrr\", \"type\": \"quantitative\"}], \"x\": {\"field\": \"subscribers\", \"type\": \"quantitative\"}, \"y\": {\"field\": \"mrr\", \"type\": \"quantitative\"}}}, {\"mark\": {\"type\": \"circle\"}, \"encoding\": {\"color\": {\"field\": \"platform\", \"type\": \"nominal\"}, \"tooltip\": [{\"field\": \"platform\", \"type\": \"nominal\"}, {\"field\": \"subscribers\", \"type\": \"quantitative\"}, {\"field\": \"mrr\", \"type\": \"quantitative\"}], \"x\": {\"field\": \"subscribers\", \"type\": \"quantitative\"}, \"y\": {\"field\": \"mrr\", \"type\": \"quantitative\"}}}], \"data\": {\"name\": \"data-ab0f8ea2a0ea8dbfde301190b286da2e\"}, \"height\": 768, \"width\": 800, \"$schema\": \"https://vega.github.io/schema/vega-lite/v5.6.1.json\", \"datasets\": {\"data-ab0f8ea2a0ea8dbfde301190b286da2e\": [{\"platform\": \"kofi-contributor\", \"plan\": \"contributor\", \"subscribers\": 0, \"mrr\": 0.0}, {\"platform\": \"kofi-gold\", \"plan\": \"gold\", \"subscribers\": 0, \"mrr\": -6.0}, {\"platform\": \"patreon-pro\", \"plan\": \"pro\", \"subscribers\": 0, \"mrr\": 0.0}, {\"platform\": \"stripe-scale\", \"plan\": \"scale\", \"subscribers\": 0, \"mrr\": 0.0}, {\"platform\": \"kofi-contributor\", \"plan\": \"contributor\", \"subscribers\": 1, \"mrr\": 4.3}, {\"platform\": \"kofi-gold\", \"plan\": \"gold\", \"subscribers\": 1, \"mrr\": -1.45}, {\"platform\": \"patreon-pro\", \"plan\": \"pro\", \"subscribers\": 1, \"mrr\": 4.15}, {\"platform\": \"stripe-scale\", \"plan\": \"scale\", \"subscribers\": 1, \"mrr\": 4.6}, {\"platform\": \"kofi-contributor\", \"plan\": \"contributor\", \"subscribers\": 2, \"mrr\": 8.6}, {\"platform\": \"kofi-gold\", \"plan\": \"gold\", \"subscribers\": 2, \"mrr\": 3.1}, {\"platform\": \"patreon-pro\", \"plan\": \"pro\", \"subscribers\": 2, \"mrr\": 8.3}, {\"platform\": \"stripe-scale\", \"plan\": \"scale\", \"subscribers\": 2, \"mrr\": 9.2}, {\"platform\": \"kofi-contributor\", \"plan\": \"contributor\", \"subscribers\": 3, \"mrr\": 12.9}, {\"platform\": \"kofi-gold\", \"plan\": \"gold\", \"subscribers\": 3, \"mrr\": 7.65}, {\"platform\": \"patreon-pro\", \"plan\": \"pro\", \"subscribers\": 3, \"mrr\": 12.45}, {\"platform\": \"stripe-scale\", \"plan\": \"scale\", \"subscribers\": 3, \"mrr\": 13.8}, {\"platform\": \"kofi-contributor\", \"plan\": \"contributor\", \"subscribers\": 4, \"mrr\": 17.2}, {\"platform\": \"kofi-gold\", \"plan\": \"gold\", \"subscribers\": 4, \"mrr\": 12.2}, {\"platform\": \"patreon-pro\", \"plan\": \"pro\", \"subscribers\": 4, \"mrr\": 16.6}, {\"platform\": \"stripe-scale\", \"plan\": \"scale\", \"subscribers\": 4, \"mrr\": 18.4}, {\"platform\": \"kofi-contributor\", \"plan\": \"contributor\", \"subscribers\": 5, \"mrr\": 21.5}, {\"platform\": \"kofi-gold\", \"plan\": \"gold\", \"subscribers\": 5, \"mrr\": 16.75}, {\"platform\": \"patreon-pro\", \"plan\": \"pro\", \"subscribers\": 5, \"mrr\": 20.75}, {\"platform\": \"stripe-scale\", \"plan\": \"scale\", \"subscribers\": 5, \"mrr\": 23.0}, {\"platform\": \"kofi-contributor\", \"plan\": \"contributor\", \"subscribers\": 6, \"mrr\": 25.8}, {\"platform\": \"kofi-gold\", \"plan\": \"gold\", \"subscribers\": 6, \"mrr\": 21.3}, {\"platform\": \"patreon-pro\", \"plan\": \"pro\", \"subscribers\": 6, \"mrr\": 24.9}, {\"platform\": \"stripe-scale\", \"plan\": \"scale\", \"subscribers\": 6, \"mrr\": 27.6}, {\"platform\": \"kofi-contributor\", \"plan\": \"contributor\", \"subscribers\": 7, \"mrr\": 30.1}, {\"platform\": \"kofi-gold\", \"plan\": \"gold\", \"subscribers\": 7, \"mrr\": 25.85}, {\"platform\": \"patreon-pro\", \"plan\": \"pro\", \"subscribers\": 7, \"mrr\": 29.05}, {\"platform\": \"stripe-scale\", \"plan\": \"scale\", \"subscribers\": 7, \"mrr\": 32.2}, {\"platform\": \"kofi-contributor\", \"plan\": \"contributor\", \"subscribers\": 8, \"mrr\": 34.4}, {\"platform\": \"kofi-gold\", \"plan\": \"gold\", \"subscribers\": 8, \"mrr\": 30.4}, {\"platform\": \"patreon-pro\", \"plan\": \"pro\", \"subscribers\": 8, \"mrr\": 33.2}, {\"platform\": \"stripe-scale\", \"plan\": \"scale\", \"subscribers\": 8, \"mrr\": 36.8}, {\"platform\": \"kofi-contributor\", \"plan\": \"contributor\", \"subscribers\": 9, \"mrr\": 38.7}, {\"platform\": \"kofi-gold\", \"plan\": \"gold\", \"subscribers\": 9, \"mrr\": 34.95}, {\"platform\": \"patreon-pro\", \"plan\": \"pro\", \"subscribers\": 9, \"mrr\": 37.35}, {\"platform\": \"stripe-scale\", \"plan\": \"scale\", \"subscribers\": 9, \"mrr\": 41.4}, {\"platform\": \"kofi-contributor\", \"plan\": \"contributor\", \"subscribers\": 10, \"mrr\": 43.0}, {\"platform\": \"kofi-gold\", \"plan\": \"gold\", \"subscribers\": 10, \"mrr\": 39.5}, {\"platform\": \"patreon-pro\", \"plan\": \"pro\", \"subscribers\": 10, \"mrr\": 41.5}, {\"platform\": \"stripe-scale\", \"plan\": \"scale\", \"subscribers\": 10, \"mrr\": 46.0}, {\"platform\": \"kofi-contributor\", \"plan\": \"contributor\", \"subscribers\": 11, \"mrr\": 47.3}, {\"platform\": \"kofi-gold\", \"plan\": \"gold\", \"subscribers\": 11, \"mrr\": 44.05}, {\"platform\": \"patreon-pro\", \"plan\": \"pro\", \"subscribers\": 11, \"mrr\": 45.65}, {\"platform\": \"stripe-scale\", \"plan\": \"scale\", \"subscribers\": 11, \"mrr\": 50.6}, {\"platform\": \"kofi-contributor\", \"plan\": \"contributor\", \"subscribers\": 12, \"mrr\": 51.6}, {\"platform\": \"kofi-gold\", \"plan\": \"gold\", \"subscribers\": 12, \"mrr\": 48.6}, {\"platform\": \"patreon-pro\", \"plan\": \"pro\", \"subscribers\": 12, \"mrr\": 49.8}, {\"platform\": \"stripe-scale\", \"plan\": \"scale\", \"subscribers\": 12, \"mrr\": 55.2}, {\"platform\": \"kofi-contributor\", \"plan\": \"contributor\", \"subscribers\": 13, \"mrr\": 55.9}, {\"platform\": \"kofi-gold\", \"plan\": \"gold\", \"subscribers\": 13, \"mrr\": 53.15}, {\"platform\": \"patreon-pro\", \"plan\": \"pro\", \"subscribers\": 13, \"mrr\": 53.95}, {\"platform\": \"stripe-scale\", \"plan\": \"scale\", \"subscribers\": 13, \"mrr\": 59.8}, {\"platform\": \"kofi-contributor\", \"plan\": \"contributor\", \"subscribers\": 14, \"mrr\": 60.2}, {\"platform\": \"kofi-gold\", \"plan\": \"gold\", \"subscribers\": 14, \"mrr\": 57.7}, {\"platform\": \"patreon-pro\", \"plan\": \"pro\", \"subscribers\": 14, \"mrr\": 58.1}, {\"platform\": \"stripe-scale\", \"plan\": \"scale\", \"subscribers\": 14, \"mrr\": 64.4}, {\"platform\": \"kofi-contributor\", \"plan\": \"contributor\", \"subscribers\": 15, \"mrr\": 64.5}, {\"platform\": \"kofi-gold\", \"plan\": \"gold\", \"subscribers\": 15, \"mrr\": 62.25}, {\"platform\": \"patreon-pro\", \"plan\": \"pro\", \"subscribers\": 15, \"mrr\": 62.25}, {\"platform\": \"stripe-scale\", \"plan\": \"scale\", \"subscribers\": 15, \"mrr\": 69.0}, {\"platform\": \"kofi-contributor\", \"plan\": \"contributor\", \"subscribers\": 16, \"mrr\": 68.8}, {\"platform\": \"kofi-gold\", \"plan\": \"gold\", \"subscribers\": 16, \"mrr\": 66.8}, {\"platform\": \"patreon-pro\", \"plan\": \"pro\", \"subscribers\": 16, \"mrr\": 66.4}, {\"platform\": \"stripe-scale\", \"plan\": \"scale\", \"subscribers\": 16, \"mrr\": 73.6}, {\"platform\": \"kofi-contributor\", \"plan\": \"contributor\", \"subscribers\": 17, \"mrr\": 73.1}, {\"platform\": \"kofi-gold\", \"plan\": \"gold\", \"subscribers\": 17, \"mrr\": 71.35}, {\"platform\": \"patreon-pro\", \"plan\": \"pro\", \"subscribers\": 17, \"mrr\": 70.55}, {\"platform\": \"stripe-scale\", \"plan\": \"scale\", \"subscribers\": 17, \"mrr\": 78.2}, {\"platform\": \"kofi-contributor\", \"plan\": \"contributor\", \"subscribers\": 18, \"mrr\": 77.4}, {\"platform\": \"kofi-gold\", \"plan\": \"gold\", \"subscribers\": 18, \"mrr\": 75.9}, {\"platform\": \"patreon-pro\", \"plan\": \"pro\", \"subscribers\": 18, \"mrr\": 74.7}, {\"platform\": \"stripe-scale\", \"plan\": \"scale\", \"subscribers\": 18, \"mrr\": 82.8}, {\"platform\": \"kofi-contributor\", \"plan\": \"contributor\", \"subscribers\": 19, \"mrr\": 81.7}, {\"platform\": \"kofi-gold\", \"plan\": \"gold\", \"subscribers\": 19, \"mrr\": 80.45}, {\"platform\": \"patreon-pro\", \"plan\": \"pro\", \"subscribers\": 19, \"mrr\": 78.85}, {\"platform\": \"stripe-scale\", \"plan\": \"scale\", \"subscribers\": 19, \"mrr\": 87.4}, {\"platform\": \"kofi-contributor\", \"plan\": \"contributor\", \"subscribers\": 20, \"mrr\": 86.0}, {\"platform\": \"kofi-gold\", \"plan\": \"gold\", \"subscribers\": 20, \"mrr\": 85.0}, {\"platform\": \"patreon-pro\", \"plan\": \"pro\", \"subscribers\": 20, \"mrr\": 83.0}, {\"platform\": \"stripe-scale\", \"plan\": \"scale\", \"subscribers\": 20, \"mrr\": 92.0}, {\"platform\": \"kofi-contributor\", \"plan\": \"contributor\", \"subscribers\": 21, \"mrr\": 90.3}, {\"platform\": \"kofi-gold\", \"plan\": \"gold\", \"subscribers\": 21, \"mrr\": 89.55}, {\"platform\": \"patreon-pro\", \"plan\": \"pro\", \"subscribers\": 21, \"mrr\": 87.15}, {\"platform\": \"stripe-scale\", \"plan\": \"scale\", \"subscribers\": 21, \"mrr\": 96.6}, {\"platform\": \"kofi-contributor\", \"plan\": \"contributor\", \"subscribers\": 22, \"mrr\": 94.6}, {\"platform\": \"kofi-gold\", \"plan\": \"gold\", \"subscribers\": 22, \"mrr\": 94.1}, {\"platform\": \"patreon-pro\", \"plan\": \"pro\", \"subscribers\": 22, \"mrr\": 91.3}, {\"platform\": \"stripe-scale\", \"plan\": \"scale\", \"subscribers\": 22, \"mrr\": 101.2}, {\"platform\": \"kofi-contributor\", \"plan\": \"contributor\", \"subscribers\": 23, \"mrr\": 98.9}, {\"platform\": \"kofi-gold\", \"plan\": \"gold\", \"subscribers\": 23, \"mrr\": 98.65}, {\"platform\": \"patreon-pro\", \"plan\": \"pro\", \"subscribers\": 23, \"mrr\": 95.45}, {\"platform\": \"stripe-scale\", \"plan\": \"scale\", \"subscribers\": 23, \"mrr\": 105.8}, {\"platform\": \"kofi-contributor\", \"plan\": \"contributor\", \"subscribers\": 24, \"mrr\": 103.2}, {\"platform\": \"kofi-gold\", \"plan\": \"gold\", \"subscribers\": 24, \"mrr\": 103.2}, {\"platform\": \"patreon-pro\", \"plan\": \"pro\", \"subscribers\": 24, \"mrr\": 99.6}, {\"platform\": \"stripe-scale\", \"plan\": \"scale\", \"subscribers\": 24, \"mrr\": 110.4}, {\"platform\": \"kofi-contributor\", \"plan\": \"contributor\", \"subscribers\": 25, \"mrr\": 107.5}, {\"platform\": \"kofi-gold\", \"plan\": \"gold\", \"subscribers\": 25, \"mrr\": 107.75}, {\"platform\": \"patreon-pro\", \"plan\": \"pro\", \"subscribers\": 25, \"mrr\": 103.75}, {\"platform\": \"stripe-scale\", \"plan\": \"scale\", \"subscribers\": 25, \"mrr\": 115.0}, {\"platform\": \"kofi-contributor\", \"plan\": \"contributor\", \"subscribers\": 26, \"mrr\": 111.8}, {\"platform\": \"kofi-gold\", \"plan\": \"gold\", \"subscribers\": 26, \"mrr\": 112.3}, {\"platform\": \"patreon-pro\", \"plan\": \"pro\", \"subscribers\": 26, \"mrr\": 107.9}, {\"platform\": \"stripe-scale\", \"plan\": \"scale\", \"subscribers\": 26, \"mrr\": 119.6}, {\"platform\": \"kofi-contributor\", \"plan\": \"contributor\", \"subscribers\": 27, \"mrr\": 116.1}, {\"platform\": \"kofi-gold\", \"plan\": \"gold\", \"subscribers\": 27, \"mrr\": 116.85}, {\"platform\": \"patreon-pro\", \"plan\": \"pro\", \"subscribers\": 27, \"mrr\": 112.05}, {\"platform\": \"stripe-scale\", \"plan\": \"scale\", \"subscribers\": 27, \"mrr\": 124.2}, {\"platform\": \"kofi-contributor\", \"plan\": \"contributor\", \"subscribers\": 28, \"mrr\": 120.4}, {\"platform\": \"kofi-gold\", \"plan\": \"gold\", \"subscribers\": 28, \"mrr\": 121.4}, {\"platform\": \"patreon-pro\", \"plan\": \"pro\", \"subscribers\": 28, \"mrr\": 116.2}, {\"platform\": \"stripe-scale\", \"plan\": \"scale\", \"subscribers\": 28, \"mrr\": 128.8}, {\"platform\": \"kofi-contributor\", \"plan\": \"contributor\", \"subscribers\": 29, \"mrr\": 124.7}, {\"platform\": \"kofi-gold\", \"plan\": \"gold\", \"subscribers\": 29, \"mrr\": 125.95}, {\"platform\": \"patreon-pro\", \"plan\": \"pro\", \"subscribers\": 29, \"mrr\": 120.35}, {\"platform\": \"stripe-scale\", \"plan\": \"scale\", \"subscribers\": 29, \"mrr\": 133.4}, {\"platform\": \"kofi-contributor\", \"plan\": \"contributor\", \"subscribers\": 30, \"mrr\": 129.0}, {\"platform\": \"kofi-gold\", \"plan\": \"gold\", \"subscribers\": 30, \"mrr\": 130.5}, {\"platform\": \"patreon-pro\", \"plan\": \"pro\", \"subscribers\": 30, \"mrr\": 124.5}, {\"platform\": \"stripe-scale\", \"plan\": \"scale\", \"subscribers\": 30, \"mrr\": 138.0}]}}, {\"mode\": \"vega-lite\"});\n",
       "</script>"
      ],
      "text/plain": [
       "alt.LayerChart(...)"
      ]
     },
     "execution_count": 43,
     "metadata": {},
     "output_type": "execute_result"
    }
   ],
   "source": [
    "mrr = []\n",
    "for n in range(0,31):\n",
    "    mrr.append({\n",
    "        'platform':'kofi-contributor', \n",
    "        'plan':'contributor',\n",
    "        'subscribers': n,\n",
    "        'mrr': kofi_mrr('contributor', n, 5.00)\n",
    "    })\n",
    "    mrr.append({\n",
    "        'platform':'kofi-gold', \n",
    "        'plan':'gold',\n",
    "        'subscribers': n,\n",
    "        'mrr': kofi_mrr('gold', n, 5.00)\n",
    "    })\n",
    "    mrr.append({\n",
    "        'platform':'patreon-pro', \n",
    "        'plan':'pro',\n",
    "        'subscribers': n,\n",
    "        'mrr': patreon_mrr('pro', n, 5.00)\n",
    "    })\n",
    "    mrr.append({\n",
    "        'platform':'stripe-scale', \n",
    "        'plan':'scale',\n",
    "        'subscribers': n,\n",
    "        'mrr': stripe_mrr('scale', n, 5.00)\n",
    "    })\n",
    "df = pd.DataFrame(mrr)\n",
    "\n",
    "plt = alt.Chart(\n",
    "    df\n",
    ").encode(\n",
    "    x=\"subscribers\",\n",
    "    y=\"mrr\",\n",
    "    color=\"platform\",\n",
    "    tooltip=[\"platform\", \"subscribers\", \"mrr\"]\n",
    ").properties(\n",
    "    width=800,\n",
    "    height=768\n",
    ")\n",
    "plt.mark_line() + plt.mark_circle()"
   ]
  },
  {
   "cell_type": "markdown",
   "id": "5c96e212-c659-4c3c-91e5-256bb9d50c79",
   "metadata": {
    "tags": []
   },
   "source": [
    "## Pricing Links\n",
    "\n",
    "- [Patreon](https://www.patreon.com/pricing)\n",
    "- [Memberful](https://memberful.com/pricing/)\n",
    "- [Ko-Fi](https://ko-fi.com/gold)\n",
    "- [Stripe Billing](https://stripe.com/billing/pricing)"
   ]
  }
 ],
 "metadata": {
  "kernelspec": {
   "display_name": "Python 3 (ipykernel)",
   "language": "python",
   "name": "python3"
  },
  "language_info": {
   "codemirror_mode": {
    "name": "ipython",
    "version": 3
   },
   "file_extension": ".py",
   "mimetype": "text/x-python",
   "name": "python",
   "nbconvert_exporter": "python",
   "pygments_lexer": "ipython3",
   "version": "3.11.3"
  }
 },
 "nbformat": 4,
 "nbformat_minor": 5
}
